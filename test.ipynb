{
  "nbformat": 4,
  "nbformat_minor": 0,
  "metadata": {
    "colab": {
      "name": "test.ipynb",
      "provenance": [],
      "collapsed_sections": [],
      "authorship_tag": "ABX9TyNZBeupLOS1EEDEaeo95vgt",
      "include_colab_link": true
    },
    "kernelspec": {
      "name": "python3",
      "display_name": "Python 3"
    },
    "language_info": {
      "name": "python"
    },
    "accelerator": "GPU"
  },
  "cells": [
    {
      "cell_type": "markdown",
      "metadata": {
        "id": "view-in-github",
        "colab_type": "text"
      },
      "source": [
        "<a href=\"https://colab.research.google.com/github/aliciasply/Final-Project/blob/main/test.ipynb\" target=\"_parent\"><img src=\"https://colab.research.google.com/assets/colab-badge.svg\" alt=\"Open In Colab\"/></a>"
      ]
    },
    {
      "cell_type": "code",
      "metadata": {
        "colab": {
          "base_uri": "https://localhost:8080/"
        },
        "id": "UaPbJqEbIVvm",
        "outputId": "d6a263bb-6513-43af-c749-c3299d51708a"
      },
      "source": [
        "import os\n",
        "from IPython.display import clear_output\n",
        "try:\n",
        "  spark_version = 'spark-3.1.1'\n",
        "  os.environ['SPARK_VERSION']=spark_version\n",
        "\n",
        "  # Install Spark and Java\n",
        "  !apt-get update\n",
        "  !apt-get install openjdk-11-jdk-headless -qq > /dev/null\n",
        "  !wget -q http://www-us.apache.org/dist/spark/$SPARK_VERSION/$SPARK_VERSION-bin-hadoop2.7.tgz\n",
        "  !tar xf $SPARK_VERSION-bin-hadoop2.7.tgz\n",
        "  !pip install -q findspark\n",
        "\n",
        "  # Set Environment Variables\n",
        "  os.environ[\"JAVA_HOME\"] = \"/usr/lib/jvm/java-11-openjdk-amd64\"\n",
        "  os.environ[\"SPARK_HOME\"] = f\"/content/{spark_version}-bin-hadoop2.7\"\n",
        "except:\n",
        "  print(f\"Error installing {spark_version}\")\n",
        "finally:\n",
        "  clear_output()\n",
        "  print(f'{spark_version} successfully installed')\n",
        "\n",
        "# Start a SparkSession\n",
        "import findspark\n",
        "findspark.init()"
      ],
      "execution_count": 1,
      "outputs": [
        {
          "output_type": "stream",
          "text": [
            "spark-3.1.1 successfully installed\n"
          ],
          "name": "stdout"
        }
      ]
    },
    {
      "cell_type": "code",
      "metadata": {
        "id": "E_8Mn4FQWvA9"
      },
      "source": [
        "# Start Spark session\n",
        "from pyspark.sql import SparkSession\n",
        "spark = SparkSession.builder.appName(\"NaiveBayes\").getOrCreate()"
      ],
      "execution_count": 2,
      "outputs": []
    },
    {
      "cell_type": "code",
      "metadata": {
        "id": "tZGfMtkXWvMD"
      },
      "source": [
        "# Read in data from S3 Buckets\n",
        "from pyspark import SparkFiles\n",
        "url =\"https://fakenewsdetector.s3.us-east-2.amazonaws.com/shapiro_cenk.csv\"\n",
        "spark.sparkContext.addFile(url)\n",
        "df = spark.read.csv(SparkFiles.get(\"shapiro_cenk.csv\"), sep=\",\", header=True)"
      ],
      "execution_count": 3,
      "outputs": []
    },
    {
      "cell_type": "code",
      "metadata": {
        "colab": {
          "base_uri": "https://localhost:8080/"
        },
        "id": "WMFi9HEMWvPz",
        "outputId": "24a65308-a660-427d-a6dc-ce8bacf71266"
      },
      "source": [
        "df.show(5)"
      ],
      "execution_count": 4,
      "outputs": [
        {
          "output_type": "stream",
          "text": [
            "+--------------------+--------------------+----------+--------------------+--------------------+----------+-----------+--------------------+-------+---------+--------------------+--------+\n",
            "|            tweet_id|                Time|     Ticks|            TweetUrl|               tweet|UserHandle|   UserName|          RetweetNum|LikeNum|   UserID|             UserUrl|Location|\n",
            "+--------------------+--------------------+----------+--------------------+--------------------+----------+-----------+--------------------+-------+---------+--------------------+--------+\n",
            "| 1374091474220949506|Mon Mar 22 20:11:...|1616443911|https://twitter.c...|\"\"\"They seem to h...|benshapiro|Ben Shapiro|                 176|    868|289548939|https://twitter.c...|    null|\n",
            "| 1374173647150125060|Tue Mar 23 01:38:...|1616463503|https://twitter.c...|https://t.co/KJ25...|benshapiro|Ben Shapiro|                 220|   2266|179245596|https://twitter.c...|    null|\n",
            "| 1374170856893652994|Tue Mar 23 01:27:...|1616462837|https://twitter.c...|RT @elonmusk: Str...|benshapiro|Ben Shapiro|               11928|      0| 17995040|https://twitter.c...|    null|\n",
            "| 1374146219489001473|Mon Mar 22 23:49:...|1616456963|https://twitter.c...|RT @yaf: We are i...|      null|       null|                null|   null|     null|                null|    null|\n",
            "|    As the presid...| Governor @ScottW...|benshapiro|         Ben Shapiro|                 150|         0|   17995040|https://twitter.c...|   null|     null|                null|    null|\n",
            "+--------------------+--------------------+----------+--------------------+--------------------+----------+-----------+--------------------+-------+---------+--------------------+--------+\n",
            "only showing top 5 rows\n",
            "\n"
          ],
          "name": "stdout"
        }
      ]
    },
    {
      "cell_type": "code",
      "metadata": {
        "id": "jzlY__iGWvTR"
      },
      "source": [
        ""
      ],
      "execution_count": null,
      "outputs": []
    },
    {
      "cell_type": "code",
      "metadata": {
        "id": "E810kIZBWvWC"
      },
      "source": [
        ""
      ],
      "execution_count": null,
      "outputs": []
    },
    {
      "cell_type": "code",
      "metadata": {
        "id": "6rjdU_PzWvZK"
      },
      "source": [
        ""
      ],
      "execution_count": null,
      "outputs": []
    }
  ]
}