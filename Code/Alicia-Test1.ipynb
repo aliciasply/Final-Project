{
 "cells": [
  {
   "cell_type": "code",
   "execution_count": 98,
   "id": "scenic-corner",
   "metadata": {},
   "outputs": [],
   "source": [
    "import numpy as np\n",
    "import pandas as pd\n",
    "import itertools\n",
    "from sklearn.model_selection import train_test_split\n",
    "from sklearn.feature_extraction.text import TfidfVectorizer\n",
    "from sklearn.linear_model import PassiveAggressiveClassifier\n",
    "from sklearn.metrics import accuracy_score, confusion_matrix"
   ]
  },
  {
   "cell_type": "code",
   "execution_count": 99,
   "id": "annoying-conflict",
   "metadata": {},
   "outputs": [
    {
     "data": {
      "text/html": [
       "<div>\n",
       "<style scoped>\n",
       "    .dataframe tbody tr th:only-of-type {\n",
       "        vertical-align: middle;\n",
       "    }\n",
       "\n",
       "    .dataframe tbody tr th {\n",
       "        vertical-align: top;\n",
       "    }\n",
       "\n",
       "    .dataframe thead th {\n",
       "        text-align: right;\n",
       "    }\n",
       "</style>\n",
       "<table border=\"1\" class=\"dataframe\">\n",
       "  <thead>\n",
       "    <tr style=\"text-align: right;\">\n",
       "      <th></th>\n",
       "      <th>Unnamed: 0</th>\n",
       "      <th>title</th>\n",
       "      <th>text</th>\n",
       "      <th>label</th>\n",
       "    </tr>\n",
       "  </thead>\n",
       "  <tbody>\n",
       "    <tr>\n",
       "      <th>0</th>\n",
       "      <td>8476</td>\n",
       "      <td>You Can Smell Hillary’s Fear</td>\n",
       "      <td>Daniel Greenfield, a Shillman Journalism Fello...</td>\n",
       "      <td>FAKE</td>\n",
       "    </tr>\n",
       "    <tr>\n",
       "      <th>1</th>\n",
       "      <td>10294</td>\n",
       "      <td>Watch The Exact Moment Paul Ryan Committed Pol...</td>\n",
       "      <td>Google Pinterest Digg Linkedin Reddit Stumbleu...</td>\n",
       "      <td>FAKE</td>\n",
       "    </tr>\n",
       "    <tr>\n",
       "      <th>2</th>\n",
       "      <td>3608</td>\n",
       "      <td>Kerry to go to Paris in gesture of sympathy</td>\n",
       "      <td>U.S. Secretary of State John F. Kerry said Mon...</td>\n",
       "      <td>REAL</td>\n",
       "    </tr>\n",
       "    <tr>\n",
       "      <th>3</th>\n",
       "      <td>10142</td>\n",
       "      <td>Bernie supporters on Twitter erupt in anger ag...</td>\n",
       "      <td>— Kaydee King (@KaydeeKing) November 9, 2016 T...</td>\n",
       "      <td>FAKE</td>\n",
       "    </tr>\n",
       "    <tr>\n",
       "      <th>4</th>\n",
       "      <td>875</td>\n",
       "      <td>The Battle of New York: Why This Primary Matters</td>\n",
       "      <td>It's primary day in New York and front-runners...</td>\n",
       "      <td>REAL</td>\n",
       "    </tr>\n",
       "  </tbody>\n",
       "</table>\n",
       "</div>"
      ],
      "text/plain": [
       "   Unnamed: 0                                              title  \\\n",
       "0        8476                       You Can Smell Hillary’s Fear   \n",
       "1       10294  Watch The Exact Moment Paul Ryan Committed Pol...   \n",
       "2        3608        Kerry to go to Paris in gesture of sympathy   \n",
       "3       10142  Bernie supporters on Twitter erupt in anger ag...   \n",
       "4         875   The Battle of New York: Why This Primary Matters   \n",
       "\n",
       "                                                text label  \n",
       "0  Daniel Greenfield, a Shillman Journalism Fello...  FAKE  \n",
       "1  Google Pinterest Digg Linkedin Reddit Stumbleu...  FAKE  \n",
       "2  U.S. Secretary of State John F. Kerry said Mon...  REAL  \n",
       "3  — Kaydee King (@KaydeeKing) November 9, 2016 T...  FAKE  \n",
       "4  It's primary day in New York and front-runners...  REAL  "
      ]
     },
     "execution_count": 99,
     "metadata": {},
     "output_type": "execute_result"
    }
   ],
   "source": [
    "# Import data\n",
    "df = pd.read_csv('../Data/Alicia/news.csv')\n",
    "df.head()"
   ]
  },
  {
   "cell_type": "code",
   "execution_count": 100,
   "id": "quiet-challenge",
   "metadata": {},
   "outputs": [
    {
     "data": {
      "text/plain": [
       "0    FAKE\n",
       "1    FAKE\n",
       "2    REAL\n",
       "3    FAKE\n",
       "4    REAL\n",
       "Name: label, dtype: object"
      ]
     },
     "execution_count": 100,
     "metadata": {},
     "output_type": "execute_result"
    }
   ],
   "source": [
    "labels=df.label\n",
    "labels.head()"
   ]
  },
  {
   "cell_type": "code",
   "execution_count": 101,
   "id": "southeast-gossip",
   "metadata": {},
   "outputs": [
    {
     "data": {
      "text/plain": [
       "'Daniel Greenfield, a Shillman Journalism Fellow at the Freedom Center, is a New York writer focusing on radical Islam. \\nIn the final stretch of the election, Hillary Rodham Clinton has gone to war with the FBI. \\nThe word “unprecedented” has been thrown around so often this election that it ought to be retired. But it’s still unprecedented for the nominee of a major political party to go war with the FBI. \\nBut that’s exactly what Hillary and her people have done. Coma patients just waking up now and watching an hour of CNN from their hospital beds would assume that FBI Director James Comey is Hillary’s opponent in this election. \\nThe FBI is under attack by everyone from Obama to CNN. Hillary’s people have circulated a letter attacking Comey. There are currently more media hit pieces lambasting him than targeting Trump. It wouldn’t be too surprising if the Clintons or their allies were to start running attack ads against the FBI. \\nThe FBI’s leadership is being warned that the entire left-wing establishment will form a lynch mob if they continue going after Hillary. And the FBI’s credibility is being attacked by the media and the Democrats to preemptively head off the results of the investigation of the Clinton Foundation and Hillary Clinton. \\nThe covert struggle between FBI agents and Obama’s DOJ people has gone explosively public. \\nThe New York Times has compared Comey to J. Edgar Hoover. Its bizarre headline, “James Comey Role Recalls Hoover’s FBI, Fairly or Not” practically admits up front that it’s spouting nonsense. The Boston Globe has published a column calling for Comey’s resignation. Not to be outdone, Time has an editorial claiming that the scandal is really an attack on all women. \\nJames Carville appeared on MSNBC to remind everyone that he was still alive and insane. He accused Comey of coordinating with House Republicans and the KGB. And you thought the “vast right wing conspiracy” was a stretch. \\nCountless media stories charge Comey with violating procedure. Do you know what’s a procedural violation? Emailing classified information stored on your bathroom server. \\nSenator Harry Reid has sent Comey a letter accusing him of violating the Hatch Act. The Hatch Act is a nice idea that has as much relevance in the age of Obama as the Tenth Amendment. But the cable news spectrum quickly filled with media hacks glancing at the Wikipedia article on the Hatch Act under the table while accusing the FBI director of one of the most awkward conspiracies against Hillary ever. \\nIf James Comey is really out to hurt Hillary, he picked one hell of a strange way to do it. \\nNot too long ago Democrats were breathing a sigh of relief when he gave Hillary Clinton a pass in a prominent public statement. If he really were out to elect Trump by keeping the email scandal going, why did he trash the investigation? Was he on the payroll of House Republicans and the KGB back then and playing it coy or was it a sudden development where Vladimir Putin and Paul Ryan talked him into taking a look at Anthony Weiner’s computer? \\nEither Comey is the most cunning FBI director that ever lived or he’s just awkwardly trying to navigate a political mess that has trapped him between a DOJ leadership whose political futures are tied to Hillary’s victory and his own bureau whose apolitical agents just want to be allowed to do their jobs. \\nThe only truly mysterious thing is why Hillary and her associates decided to go to war with a respected Federal agency. Most Americans like the FBI while Hillary Clinton enjoys a 60% unfavorable rating. \\nAnd it’s an interesting question. \\nHillary’s old strategy was to lie and deny that the FBI even had a criminal investigation underway. Instead her associates insisted that it was a security review. The FBI corrected her and she shrugged it off. But the old breezy denial approach has given way to a savage assault on the FBI. \\nPretending that nothing was wrong was a bad strategy, but it was a better one that picking a fight with the FBI while lunatic Clinton associates try to claim that the FBI is really the KGB. \\nThere are two possible explanations. \\nHillary Clinton might be arrogant enough to lash out at the FBI now that she believes that victory is near. The same kind of hubris that led her to plan her victory fireworks display could lead her to declare a war on the FBI for irritating her during the final miles of her campaign. \\nBut the other explanation is that her people panicked. \\nGoing to war with the FBI is not the behavior of a smart and focused presidential campaign. It’s an act of desperation. When a presidential candidate decides that her only option is to try and destroy the credibility of the FBI, that’s not hubris, it’s fear of what the FBI might be about to reveal about her. \\nDuring the original FBI investigation, Hillary Clinton was confident that she could ride it out. And she had good reason for believing that. But that Hillary Clinton is gone. In her place is a paranoid wreck. Within a short space of time the “positive” Clinton campaign promising to unite the country has been replaced by a desperate and flailing operation that has focused all its energy on fighting the FBI. \\nThere’s only one reason for such bizarre behavior. \\nThe Clinton campaign has decided that an FBI investigation of the latest batch of emails poses a threat to its survival. And so it’s gone all in on fighting the FBI. It’s an unprecedented step born of fear. It’s hard to know whether that fear is justified. But the existence of that fear already tells us a whole lot. \\nClinton loyalists rigged the old investigation. They knew the outcome ahead of time as well as they knew the debate questions. Now suddenly they are no longer in control. And they are afraid. \\nYou can smell the fear. \\nThe FBI has wiretaps from the investigation of the Clinton Foundation. It’s finding new emails all the time. And Clintonworld panicked. The spinmeisters of Clintonworld have claimed that the email scandal is just so much smoke without fire. All that’s here is the appearance of impropriety without any of the substance. But this isn’t how you react to smoke. It’s how you respond to a fire. \\nThe misguided assault on the FBI tells us that Hillary Clinton and her allies are afraid of a revelation bigger than the fundamental illegality of her email setup. The email setup was a preemptive cover up. The Clinton campaign has panicked badly out of the belief, right or wrong, that whatever crime the illegal setup was meant to cover up is at risk of being exposed. \\nThe Clintons have weathered countless scandals over the years. Whatever they are protecting this time around is bigger than the usual corruption, bribery, sexual assaults and abuses of power that have followed them around throughout the years. This is bigger and more damaging than any of the allegations that have already come out. And they don’t want FBI investigators anywhere near it. \\nThe campaign against Comey is pure intimidation. It’s also a warning. Any senior FBI people who value their careers are being warned to stay away. The Democrats are closing ranks around their nominee against the FBI. It’s an ugly and unprecedented scene. It may also be their last stand. \\nHillary Clinton has awkwardly wound her way through numerous scandals in just this election cycle. But she’s never shown fear or desperation before. Now that has changed. Whatever she is afraid of, it lies buried in her emails with Huma Abedin. And it can bring her down like nothing else has.  '"
      ]
     },
     "execution_count": 101,
     "metadata": {},
     "output_type": "execute_result"
    }
   ],
   "source": [
    "title1 = df[\"text\"][0]\n",
    "title1"
   ]
  },
  {
   "cell_type": "code",
   "execution_count": 104,
   "id": "forced-draft",
   "metadata": {},
   "outputs": [],
   "source": [
    "# ! pip install wordcloud "
   ]
  },
  {
   "cell_type": "code",
   "execution_count": 105,
   "id": "quarterly-vietnamese",
   "metadata": {},
   "outputs": [],
   "source": [
    "# from wordcloud import WordCloud, STOPWORDS, ImageColorGenerator\n"
   ]
  },
  {
   "cell_type": "code",
   "execution_count": null,
   "id": "fifth-intersection",
   "metadata": {},
   "outputs": [],
   "source": []
  },
  {
   "cell_type": "code",
   "execution_count": null,
   "id": "funny-freedom",
   "metadata": {},
   "outputs": [],
   "source": []
  },
  {
   "cell_type": "code",
   "execution_count": null,
   "id": "hydraulic-february",
   "metadata": {},
   "outputs": [],
   "source": []
  },
  {
   "cell_type": "code",
   "execution_count": null,
   "id": "purple-salmon",
   "metadata": {},
   "outputs": [],
   "source": []
  },
  {
   "cell_type": "code",
   "execution_count": 9,
   "id": "blind-windows",
   "metadata": {},
   "outputs": [],
   "source": [
    "# Split Dataset\n",
    "x_train,x_test,y_train,y_test=train_test_split(df['text'], labels, test_size=0.2, random_state=7)"
   ]
  },
  {
   "cell_type": "code",
   "execution_count": 10,
   "id": "roman-birmingham",
   "metadata": {},
   "outputs": [],
   "source": [
    "#DataFlair - Initialize a TfidfVectorizer\n",
    "tfidf_vectorizer=TfidfVectorizer(stop_words='english', max_df=0.7)\n",
    "#DataFlair - Fit and transform train set, transform test set\n",
    "tfidf_train=tfidf_vectorizer.fit_transform(x_train) \n",
    "tfidf_test=tfidf_vectorizer.transform(x_test)"
   ]
  },
  {
   "cell_type": "code",
   "execution_count": 11,
   "id": "composed-truck",
   "metadata": {},
   "outputs": [
    {
     "name": "stdout",
     "output_type": "stream",
     "text": [
      "Accuracy: 92.74%\n"
     ]
    }
   ],
   "source": [
    "#DataFlair - Initialize a PassiveAggressiveClassifier\n",
    "pac=PassiveAggressiveClassifier(max_iter=50)\n",
    "pac.fit(tfidf_train,y_train)\n",
    "#DataFlair - Predict on the test set and calculate accuracy\n",
    "y_pred=pac.predict(tfidf_test)\n",
    "score=accuracy_score(y_test,y_pred)\n",
    "print(f'Accuracy: {round(score*100,2)}%')"
   ]
  },
  {
   "cell_type": "code",
   "execution_count": 12,
   "id": "permanent-shadow",
   "metadata": {},
   "outputs": [
    {
     "data": {
      "text/plain": [
       "array([[588,  50],\n",
       "       [ 42, 587]])"
      ]
     },
     "execution_count": 12,
     "metadata": {},
     "output_type": "execute_result"
    }
   ],
   "source": [
    "#DataFlair - Build confusion matrix\n",
    "confusion_matrix(y_test,y_pred, labels=['FAKE','REAL'])"
   ]
  },
  {
   "cell_type": "code",
   "execution_count": 84,
   "id": "residential-password",
   "metadata": {},
   "outputs": [
    {
     "data": {
      "text/html": [
       "<div>\n",
       "<style scoped>\n",
       "    .dataframe tbody tr th:only-of-type {\n",
       "        vertical-align: middle;\n",
       "    }\n",
       "\n",
       "    .dataframe tbody tr th {\n",
       "        vertical-align: top;\n",
       "    }\n",
       "\n",
       "    .dataframe thead th {\n",
       "        text-align: right;\n",
       "    }\n",
       "</style>\n",
       "<table border=\"1\" class=\"dataframe\">\n",
       "  <thead>\n",
       "    <tr style=\"text-align: right;\">\n",
       "      <th></th>\n",
       "      <th>Unnamed: 0</th>\n",
       "      <th>Title</th>\n",
       "      <th>Article</th>\n",
       "      <th>Headline</th>\n",
       "      <th>Title_URL</th>\n",
       "      <th>Image</th>\n",
       "      <th>Facebook_likes</th>\n",
       "      <th>Facebook_comments</th>\n",
       "      <th>Facebook_shares</th>\n",
       "      <th>Comment_replies</th>\n",
       "    </tr>\n",
       "  </thead>\n",
       "  <tbody>\n",
       "    <tr>\n",
       "      <th>0</th>\n",
       "      <td>0</td>\n",
       "      <td>CNN</td>\n",
       "      <td>Po Murray writes that the two mass killings in...</td>\n",
       "      <td>Opinion: What has to happen after the Colorado...</td>\n",
       "      <td>https://www.facebook.com/cnn/?__cft__[0]=AZVAV...</td>\n",
       "      <td>https://external-sjc3-1.xx.fbcdn.net/safe_imag...</td>\n",
       "      <td>102.0</td>\n",
       "      <td>98.0</td>\n",
       "      <td>6.0</td>\n",
       "      <td>1</td>\n",
       "    </tr>\n",
       "    <tr>\n",
       "      <th>1</th>\n",
       "      <td>1</td>\n",
       "      <td>CNN</td>\n",
       "      <td>Mississippi is one of three states that have e...</td>\n",
       "      <td>More states aim to offer Covid-19 vaccines to ...</td>\n",
       "      <td>https://www.facebook.com/cnn/?__cft__[0]=AZU2o...</td>\n",
       "      <td>https://external-sjc3-1.xx.fbcdn.net/safe_imag...</td>\n",
       "      <td>574.0</td>\n",
       "      <td>98.0</td>\n",
       "      <td>31.0</td>\n",
       "      <td>1</td>\n",
       "    </tr>\n",
       "    <tr>\n",
       "      <th>2</th>\n",
       "      <td>2</td>\n",
       "      <td>CNN</td>\n",
       "      <td>In 2018, the city of Boulder, Colorado, passed...</td>\n",
       "      <td>Boulder banned assault weapons in 2018. A judg...</td>\n",
       "      <td>https://www.facebook.com/cnn/?__cft__[0]=AZVNa...</td>\n",
       "      <td>https://external-sjc3-1.xx.fbcdn.net/safe_imag...</td>\n",
       "      <td>1100.0</td>\n",
       "      <td>1200.0</td>\n",
       "      <td>119.0</td>\n",
       "      <td>112</td>\n",
       "    </tr>\n",
       "    <tr>\n",
       "      <th>3</th>\n",
       "      <td>3</td>\n",
       "      <td>CNN</td>\n",
       "      <td>\"The life of a single parent is challenging to...</td>\n",
       "      <td>Opinion: My Covid life as a single mom: Like j...</td>\n",
       "      <td>https://www.facebook.com/cnn/?__cft__[0]=AZWhO...</td>\n",
       "      <td>https://external-sjc3-1.xx.fbcdn.net/safe_imag...</td>\n",
       "      <td>554.0</td>\n",
       "      <td>202.0</td>\n",
       "      <td>37.0</td>\n",
       "      <td>9</td>\n",
       "    </tr>\n",
       "    <tr>\n",
       "      <th>4</th>\n",
       "      <td>4</td>\n",
       "      <td>CNN</td>\n",
       "      <td>British people attempting to go on vacation wh...</td>\n",
       "      <td>New UK law means $7,000 fines for vacations ab...</td>\n",
       "      <td>https://www.facebook.com/cnn/?__cft__[0]=AZXIu...</td>\n",
       "      <td>https://external-sjc3-1.xx.fbcdn.net/safe_imag...</td>\n",
       "      <td>912.0</td>\n",
       "      <td>390.0</td>\n",
       "      <td>83.0</td>\n",
       "      <td>0</td>\n",
       "    </tr>\n",
       "  </tbody>\n",
       "</table>\n",
       "</div>"
      ],
      "text/plain": [
       "   Unnamed: 0 Title                                            Article  \\\n",
       "0           0   CNN  Po Murray writes that the two mass killings in...   \n",
       "1           1   CNN  Mississippi is one of three states that have e...   \n",
       "2           2   CNN  In 2018, the city of Boulder, Colorado, passed...   \n",
       "3           3   CNN  \"The life of a single parent is challenging to...   \n",
       "4           4   CNN  British people attempting to go on vacation wh...   \n",
       "\n",
       "                                            Headline  \\\n",
       "0  Opinion: What has to happen after the Colorado...   \n",
       "1  More states aim to offer Covid-19 vaccines to ...   \n",
       "2  Boulder banned assault weapons in 2018. A judg...   \n",
       "3  Opinion: My Covid life as a single mom: Like j...   \n",
       "4  New UK law means $7,000 fines for vacations ab...   \n",
       "\n",
       "                                           Title_URL  \\\n",
       "0  https://www.facebook.com/cnn/?__cft__[0]=AZVAV...   \n",
       "1  https://www.facebook.com/cnn/?__cft__[0]=AZU2o...   \n",
       "2  https://www.facebook.com/cnn/?__cft__[0]=AZVNa...   \n",
       "3  https://www.facebook.com/cnn/?__cft__[0]=AZWhO...   \n",
       "4  https://www.facebook.com/cnn/?__cft__[0]=AZXIu...   \n",
       "\n",
       "                                               Image  Facebook_likes  \\\n",
       "0  https://external-sjc3-1.xx.fbcdn.net/safe_imag...           102.0   \n",
       "1  https://external-sjc3-1.xx.fbcdn.net/safe_imag...           574.0   \n",
       "2  https://external-sjc3-1.xx.fbcdn.net/safe_imag...          1100.0   \n",
       "3  https://external-sjc3-1.xx.fbcdn.net/safe_imag...           554.0   \n",
       "4  https://external-sjc3-1.xx.fbcdn.net/safe_imag...           912.0   \n",
       "\n",
       "   Facebook_comments  Facebook_shares Comment_replies  \n",
       "0               98.0              6.0               1  \n",
       "1               98.0             31.0               1  \n",
       "2             1200.0            119.0             112  \n",
       "3              202.0             37.0               9  \n",
       "4              390.0             83.0               0  "
      ]
     },
     "execution_count": 84,
     "metadata": {},
     "output_type": "execute_result"
    }
   ],
   "source": [
    "# Testing the data \n",
    "# User column \"article\" to predict \n",
    "\n",
    "# Import data\n",
    "test_df = pd.read_csv('cleaned_data')\n",
    "test_df.head()\n"
   ]
  },
  {
   "cell_type": "code",
   "execution_count": 79,
   "id": "certain-rhythm",
   "metadata": {},
   "outputs": [
    {
     "data": {
      "text/plain": [
       "0          0.0\n",
       "1          1.0\n",
       "2          2.0\n",
       "3          3.0\n",
       "4          4.0\n",
       "         ...  \n",
       "1040    1040.0\n",
       "1041    1041.0\n",
       "1042    1042.0\n",
       "1043       NaN\n",
       "1044    1044.0\n",
       "Name: Article, Length: 1045, dtype: object"
      ]
     },
     "execution_count": 79,
     "metadata": {},
     "output_type": "execute_result"
    }
   ],
   "source": [
    "# test1_df = test_df[test_df.Article!=\"NaN\"]\n",
    "# test1_df\n",
    "test_df[\"Article\"] = test_df[test_df.Article.notnull()]\n"
   ]
  },
  {
   "cell_type": "code",
   "execution_count": 85,
   "id": "square-puppy",
   "metadata": {},
   "outputs": [],
   "source": [
    "t1 = test_df.drop(test_df.loc[test_df[\"Article\"]==\"NaN\"].index, inplace = True)\n",
    "t1"
   ]
  },
  {
   "cell_type": "code",
   "execution_count": 86,
   "id": "binary-smell",
   "metadata": {},
   "outputs": [
    {
     "data": {
      "text/html": [
       "<div>\n",
       "<style scoped>\n",
       "    .dataframe tbody tr th:only-of-type {\n",
       "        vertical-align: middle;\n",
       "    }\n",
       "\n",
       "    .dataframe tbody tr th {\n",
       "        vertical-align: top;\n",
       "    }\n",
       "\n",
       "    .dataframe thead th {\n",
       "        text-align: right;\n",
       "    }\n",
       "</style>\n",
       "<table border=\"1\" class=\"dataframe\">\n",
       "  <thead>\n",
       "    <tr style=\"text-align: right;\">\n",
       "      <th></th>\n",
       "      <th>Unnamed: 0</th>\n",
       "      <th>Title</th>\n",
       "      <th>Article</th>\n",
       "      <th>Headline</th>\n",
       "      <th>Title_URL</th>\n",
       "      <th>Image</th>\n",
       "      <th>Facebook_likes</th>\n",
       "      <th>Facebook_comments</th>\n",
       "      <th>Facebook_shares</th>\n",
       "      <th>Comment_replies</th>\n",
       "    </tr>\n",
       "  </thead>\n",
       "  <tbody>\n",
       "    <tr>\n",
       "      <th>0</th>\n",
       "      <td>0</td>\n",
       "      <td>CNN</td>\n",
       "      <td>Po Murray writes that the two mass killings in...</td>\n",
       "      <td>Opinion: What has to happen after the Colorado...</td>\n",
       "      <td>https://www.facebook.com/cnn/?__cft__[0]=AZVAV...</td>\n",
       "      <td>https://external-sjc3-1.xx.fbcdn.net/safe_imag...</td>\n",
       "      <td>102.0</td>\n",
       "      <td>98.0</td>\n",
       "      <td>6.0</td>\n",
       "      <td>1</td>\n",
       "    </tr>\n",
       "    <tr>\n",
       "      <th>1</th>\n",
       "      <td>1</td>\n",
       "      <td>CNN</td>\n",
       "      <td>Mississippi is one of three states that have e...</td>\n",
       "      <td>More states aim to offer Covid-19 vaccines to ...</td>\n",
       "      <td>https://www.facebook.com/cnn/?__cft__[0]=AZU2o...</td>\n",
       "      <td>https://external-sjc3-1.xx.fbcdn.net/safe_imag...</td>\n",
       "      <td>574.0</td>\n",
       "      <td>98.0</td>\n",
       "      <td>31.0</td>\n",
       "      <td>1</td>\n",
       "    </tr>\n",
       "    <tr>\n",
       "      <th>2</th>\n",
       "      <td>2</td>\n",
       "      <td>CNN</td>\n",
       "      <td>In 2018, the city of Boulder, Colorado, passed...</td>\n",
       "      <td>Boulder banned assault weapons in 2018. A judg...</td>\n",
       "      <td>https://www.facebook.com/cnn/?__cft__[0]=AZVNa...</td>\n",
       "      <td>https://external-sjc3-1.xx.fbcdn.net/safe_imag...</td>\n",
       "      <td>1100.0</td>\n",
       "      <td>1200.0</td>\n",
       "      <td>119.0</td>\n",
       "      <td>112</td>\n",
       "    </tr>\n",
       "    <tr>\n",
       "      <th>3</th>\n",
       "      <td>3</td>\n",
       "      <td>CNN</td>\n",
       "      <td>\"The life of a single parent is challenging to...</td>\n",
       "      <td>Opinion: My Covid life as a single mom: Like j...</td>\n",
       "      <td>https://www.facebook.com/cnn/?__cft__[0]=AZWhO...</td>\n",
       "      <td>https://external-sjc3-1.xx.fbcdn.net/safe_imag...</td>\n",
       "      <td>554.0</td>\n",
       "      <td>202.0</td>\n",
       "      <td>37.0</td>\n",
       "      <td>9</td>\n",
       "    </tr>\n",
       "    <tr>\n",
       "      <th>4</th>\n",
       "      <td>4</td>\n",
       "      <td>CNN</td>\n",
       "      <td>British people attempting to go on vacation wh...</td>\n",
       "      <td>New UK law means $7,000 fines for vacations ab...</td>\n",
       "      <td>https://www.facebook.com/cnn/?__cft__[0]=AZXIu...</td>\n",
       "      <td>https://external-sjc3-1.xx.fbcdn.net/safe_imag...</td>\n",
       "      <td>912.0</td>\n",
       "      <td>390.0</td>\n",
       "      <td>83.0</td>\n",
       "      <td>0</td>\n",
       "    </tr>\n",
       "    <tr>\n",
       "      <th>...</th>\n",
       "      <td>...</td>\n",
       "      <td>...</td>\n",
       "      <td>...</td>\n",
       "      <td>...</td>\n",
       "      <td>...</td>\n",
       "      <td>...</td>\n",
       "      <td>...</td>\n",
       "      <td>...</td>\n",
       "      <td>...</td>\n",
       "      <td>...</td>\n",
       "    </tr>\n",
       "    <tr>\n",
       "      <th>1040</th>\n",
       "      <td>1040</td>\n",
       "      <td>Fox News</td>\n",
       "      <td>BREAKING: The IRS may have decided to heed the...</td>\n",
       "      <td>IRS planning to delay tax filing deadline unti...</td>\n",
       "      <td>https://www.facebook.com/FoxNews/?__cft__[0]=A...</td>\n",
       "      <td>https://external-sjc3-1.xx.fbcdn.net/safe_imag...</td>\n",
       "      <td>1100.0</td>\n",
       "      <td>588.0</td>\n",
       "      <td>314.0</td>\n",
       "      <td>0</td>\n",
       "    </tr>\n",
       "    <tr>\n",
       "      <th>1041</th>\n",
       "      <td>1041</td>\n",
       "      <td>Fox News was live.</td>\n",
       "      <td>White House press secretary Jen Psaki holds a ...</td>\n",
       "      <td>NaN</td>\n",
       "      <td>https://www.facebook.com/FoxNews/?__cft__[0]=A...</td>\n",
       "      <td>NaN</td>\n",
       "      <td>5800.0</td>\n",
       "      <td>12000.0</td>\n",
       "      <td>461.0</td>\n",
       "      <td>0</td>\n",
       "    </tr>\n",
       "    <tr>\n",
       "      <th>1042</th>\n",
       "      <td>1042</td>\n",
       "      <td>Fox News was live.</td>\n",
       "      <td>Federal Reserve Chairman Jerome Powell holds a...</td>\n",
       "      <td>NaN</td>\n",
       "      <td>https://www.facebook.com/FoxNews/?__cft__[0]=A...</td>\n",
       "      <td>NaN</td>\n",
       "      <td>1600.0</td>\n",
       "      <td>2900.0</td>\n",
       "      <td>275.0</td>\n",
       "      <td>7</td>\n",
       "    </tr>\n",
       "    <tr>\n",
       "      <th>1043</th>\n",
       "      <td>1043</td>\n",
       "      <td>Fox News</td>\n",
       "      <td>NaN</td>\n",
       "      <td>Fed holds rates near zero, lifts growth outloo...</td>\n",
       "      <td>https://www.facebook.com/FoxNews/?__cft__[0]=A...</td>\n",
       "      <td>https://external-sjc3-1.xx.fbcdn.net/safe_imag...</td>\n",
       "      <td>890.0</td>\n",
       "      <td>619.0</td>\n",
       "      <td>91.0</td>\n",
       "      <td>0</td>\n",
       "    </tr>\n",
       "    <tr>\n",
       "      <th>1044</th>\n",
       "      <td>1044</td>\n",
       "      <td>Fox News</td>\n",
       "      <td>A group of 40 GOP senators on Wednesday asked ...</td>\n",
       "      <td>Biden border wall freeze unlawful, 40 GOP sena...</td>\n",
       "      <td>https://www.facebook.com/FoxNews/?__cft__[0]=A...</td>\n",
       "      <td>https://external-sjc3-1.xx.fbcdn.net/safe_imag...</td>\n",
       "      <td>39000.0</td>\n",
       "      <td>6100.0</td>\n",
       "      <td>4000.0</td>\n",
       "      <td>0</td>\n",
       "    </tr>\n",
       "  </tbody>\n",
       "</table>\n",
       "<p>1045 rows × 10 columns</p>\n",
       "</div>"
      ],
      "text/plain": [
       "      Unnamed: 0               Title  \\\n",
       "0              0                 CNN   \n",
       "1              1                 CNN   \n",
       "2              2                 CNN   \n",
       "3              3                 CNN   \n",
       "4              4                 CNN   \n",
       "...          ...                 ...   \n",
       "1040        1040            Fox News   \n",
       "1041        1041  Fox News was live.   \n",
       "1042        1042  Fox News was live.   \n",
       "1043        1043            Fox News   \n",
       "1044        1044            Fox News   \n",
       "\n",
       "                                                Article  \\\n",
       "0     Po Murray writes that the two mass killings in...   \n",
       "1     Mississippi is one of three states that have e...   \n",
       "2     In 2018, the city of Boulder, Colorado, passed...   \n",
       "3     \"The life of a single parent is challenging to...   \n",
       "4     British people attempting to go on vacation wh...   \n",
       "...                                                 ...   \n",
       "1040  BREAKING: The IRS may have decided to heed the...   \n",
       "1041  White House press secretary Jen Psaki holds a ...   \n",
       "1042  Federal Reserve Chairman Jerome Powell holds a...   \n",
       "1043                                                NaN   \n",
       "1044  A group of 40 GOP senators on Wednesday asked ...   \n",
       "\n",
       "                                               Headline  \\\n",
       "0     Opinion: What has to happen after the Colorado...   \n",
       "1     More states aim to offer Covid-19 vaccines to ...   \n",
       "2     Boulder banned assault weapons in 2018. A judg...   \n",
       "3     Opinion: My Covid life as a single mom: Like j...   \n",
       "4     New UK law means $7,000 fines for vacations ab...   \n",
       "...                                                 ...   \n",
       "1040  IRS planning to delay tax filing deadline unti...   \n",
       "1041                                                NaN   \n",
       "1042                                                NaN   \n",
       "1043  Fed holds rates near zero, lifts growth outloo...   \n",
       "1044  Biden border wall freeze unlawful, 40 GOP sena...   \n",
       "\n",
       "                                              Title_URL  \\\n",
       "0     https://www.facebook.com/cnn/?__cft__[0]=AZVAV...   \n",
       "1     https://www.facebook.com/cnn/?__cft__[0]=AZU2o...   \n",
       "2     https://www.facebook.com/cnn/?__cft__[0]=AZVNa...   \n",
       "3     https://www.facebook.com/cnn/?__cft__[0]=AZWhO...   \n",
       "4     https://www.facebook.com/cnn/?__cft__[0]=AZXIu...   \n",
       "...                                                 ...   \n",
       "1040  https://www.facebook.com/FoxNews/?__cft__[0]=A...   \n",
       "1041  https://www.facebook.com/FoxNews/?__cft__[0]=A...   \n",
       "1042  https://www.facebook.com/FoxNews/?__cft__[0]=A...   \n",
       "1043  https://www.facebook.com/FoxNews/?__cft__[0]=A...   \n",
       "1044  https://www.facebook.com/FoxNews/?__cft__[0]=A...   \n",
       "\n",
       "                                                  Image  Facebook_likes  \\\n",
       "0     https://external-sjc3-1.xx.fbcdn.net/safe_imag...           102.0   \n",
       "1     https://external-sjc3-1.xx.fbcdn.net/safe_imag...           574.0   \n",
       "2     https://external-sjc3-1.xx.fbcdn.net/safe_imag...          1100.0   \n",
       "3     https://external-sjc3-1.xx.fbcdn.net/safe_imag...           554.0   \n",
       "4     https://external-sjc3-1.xx.fbcdn.net/safe_imag...           912.0   \n",
       "...                                                 ...             ...   \n",
       "1040  https://external-sjc3-1.xx.fbcdn.net/safe_imag...          1100.0   \n",
       "1041                                                NaN          5800.0   \n",
       "1042                                                NaN          1600.0   \n",
       "1043  https://external-sjc3-1.xx.fbcdn.net/safe_imag...           890.0   \n",
       "1044  https://external-sjc3-1.xx.fbcdn.net/safe_imag...         39000.0   \n",
       "\n",
       "      Facebook_comments  Facebook_shares Comment_replies  \n",
       "0                  98.0              6.0               1  \n",
       "1                  98.0             31.0               1  \n",
       "2                1200.0            119.0             112  \n",
       "3                 202.0             37.0               9  \n",
       "4                 390.0             83.0               0  \n",
       "...                 ...              ...             ...  \n",
       "1040              588.0            314.0               0  \n",
       "1041            12000.0            461.0               0  \n",
       "1042             2900.0            275.0               7  \n",
       "1043              619.0             91.0               0  \n",
       "1044             6100.0           4000.0               0  \n",
       "\n",
       "[1045 rows x 10 columns]"
      ]
     },
     "execution_count": 86,
     "metadata": {},
     "output_type": "execute_result"
    }
   ],
   "source": [
    "test_df"
   ]
  },
  {
   "cell_type": "code",
   "execution_count": 62,
   "id": "greatest-survival",
   "metadata": {},
   "outputs": [
    {
     "data": {
      "text/plain": [
       "Unnamed: 0             int64\n",
       "Title                 object\n",
       "Article               object\n",
       "Headline              object\n",
       "Title_URL             object\n",
       "Image                 object\n",
       "Facebook_likes       float64\n",
       "Facebook_comments    float64\n",
       "Facebook_shares      float64\n",
       "Comment_replies       object\n",
       "dtype: object"
      ]
     },
     "execution_count": 62,
     "metadata": {},
     "output_type": "execute_result"
    }
   ],
   "source": [
    "\n",
    "test_df.dtypes\n",
    "\n"
   ]
  },
  {
   "cell_type": "code",
   "execution_count": 63,
   "id": "cloudy-kenya",
   "metadata": {},
   "outputs": [
    {
     "data": {
      "text/plain": [
       "0       Po Murray writes that the two mass killings in...\n",
       "1       Mississippi is one of three states that have e...\n",
       "2       In 2018, the city of Boulder, Colorado, passed...\n",
       "3       \"The life of a single parent is challenging to...\n",
       "4       British people attempting to go on vacation wh...\n",
       "                              ...                        \n",
       "1040    BREAKING: The IRS may have decided to heed the...\n",
       "1041    White House press secretary Jen Psaki holds a ...\n",
       "1042    Federal Reserve Chairman Jerome Powell holds a...\n",
       "1043                                                  NaN\n",
       "1044    A group of 40 GOP senators on Wednesday asked ...\n",
       "Name: Article, Length: 1045, dtype: object"
      ]
     },
     "execution_count": 63,
     "metadata": {},
     "output_type": "execute_result"
    }
   ],
   "source": [
    "test_df[\"Article\"]\n"
   ]
  },
  {
   "cell_type": "code",
   "execution_count": 64,
   "id": "vocal-mississippi",
   "metadata": {},
   "outputs": [],
   "source": [
    "import re,string\n",
    "#('[^\\w\\s]','')\n",
    "def strip_links(text):\n",
    "    link_regex    =  re.compile('((https?):((//)|(\\\\\\\\))+([\\w\\d:#@%/;$()~_?\\+-=\\\\\\.&](#!)?)*)', re.DOTALL)\n",
    "    links         = re.findall(link_regex, text)\n",
    "    for link in links:\n",
    "        text = text.replace(link[0], ', ')    \n",
    "    return text\n",
    "def strip_all_entities(text):\n",
    "    entity_prefixes = ['@','#',\"\"]\n",
    "    for separator in  string.punctuation:\n",
    "        if separator not in entity_prefixes :\n",
    "            text = text.replace(separator,' ')\n",
    "    words = []\n",
    "    for word in text.split():\n",
    "        word = word.strip()\n",
    "        if word:\n",
    "            if word[0] not in entity_prefixes:\n",
    "                words.append(word)\n",
    "    return ' '.join(words)"
   ]
  },
  {
   "cell_type": "code",
   "execution_count": 65,
   "id": "stuffed-finnish",
   "metadata": {},
   "outputs": [],
   "source": [
    "# test_df[\"Article\"] = test_df[\"Article\"].apply(lambda x: \" \".join(x.lower() for x in x.split()))\n",
    "# test_df[\"Article\"]\n",
    "\n"
   ]
  },
  {
   "cell_type": "code",
   "execution_count": 66,
   "id": "infectious-wholesale",
   "metadata": {},
   "outputs": [],
   "source": [
    "# Sentiment Analysis \n",
    "\n",
    "# test_df[\"Article\"] = test_df[\"Article\"].map(lambda x:strip_all_entities(strip_links(x)))\n",
    "\n",
    "\n"
   ]
  },
  {
   "cell_type": "code",
   "execution_count": 67,
   "id": "enclosed-princeton",
   "metadata": {},
   "outputs": [
    {
     "ename": "ValueError",
     "evalue": "np.nan is an invalid document, expected byte or unicode string.",
     "output_type": "error",
     "traceback": [
      "\u001b[0;31m---------------------------------------------------------------------------\u001b[0m",
      "\u001b[0;31mValueError\u001b[0m                                Traceback (most recent call last)",
      "\u001b[0;32m<ipython-input-67-023a5da994a9>\u001b[0m in \u001b[0;36m<module>\u001b[0;34m\u001b[0m\n\u001b[1;32m      3\u001b[0m \u001b[0;34m\u001b[0m\u001b[0m\n\u001b[1;32m      4\u001b[0m \u001b[0;31m#apply the transformation\u001b[0m\u001b[0;34m\u001b[0m\u001b[0;34m\u001b[0m\u001b[0;34m\u001b[0m\u001b[0m\n\u001b[0;32m----> 5\u001b[0;31m \u001b[0mcv_default\u001b[0m \u001b[0;34m=\u001b[0m \u001b[0mcv\u001b[0m\u001b[0;34m.\u001b[0m\u001b[0mfit_transform\u001b[0m\u001b[0;34m(\u001b[0m\u001b[0mtest_df\u001b[0m\u001b[0;34m[\u001b[0m\u001b[0;34m'Article'\u001b[0m\u001b[0;34m]\u001b[0m\u001b[0;34m)\u001b[0m \u001b[0;31m# bag of words\u001b[0m\u001b[0;34m\u001b[0m\u001b[0;34m\u001b[0m\u001b[0m\n\u001b[0m\u001b[1;32m      6\u001b[0m \u001b[0mprint\u001b[0m\u001b[0;34m(\u001b[0m\u001b[0mcv_default\u001b[0m\u001b[0;34m.\u001b[0m\u001b[0mshape\u001b[0m\u001b[0;34m)\u001b[0m\u001b[0;34m\u001b[0m\u001b[0;34m\u001b[0m\u001b[0m\n\u001b[1;32m      7\u001b[0m \u001b[0;31m# \"bag of words\"\u001b[0m\u001b[0;34m\u001b[0m\u001b[0;34m\u001b[0m\u001b[0;34m\u001b[0m\u001b[0m\n",
      "\u001b[0;32m~/anaconda3/lib/python3.8/site-packages/sklearn/feature_extraction/text.py\u001b[0m in \u001b[0;36mfit_transform\u001b[0;34m(self, raw_documents, y)\u001b[0m\n\u001b[1;32m   1196\u001b[0m         \u001b[0mmax_features\u001b[0m \u001b[0;34m=\u001b[0m \u001b[0mself\u001b[0m\u001b[0;34m.\u001b[0m\u001b[0mmax_features\u001b[0m\u001b[0;34m\u001b[0m\u001b[0;34m\u001b[0m\u001b[0m\n\u001b[1;32m   1197\u001b[0m \u001b[0;34m\u001b[0m\u001b[0m\n\u001b[0;32m-> 1198\u001b[0;31m         vocabulary, X = self._count_vocab(raw_documents,\n\u001b[0m\u001b[1;32m   1199\u001b[0m                                           self.fixed_vocabulary_)\n\u001b[1;32m   1200\u001b[0m \u001b[0;34m\u001b[0m\u001b[0m\n",
      "\u001b[0;32m~/anaconda3/lib/python3.8/site-packages/sklearn/feature_extraction/text.py\u001b[0m in \u001b[0;36m_count_vocab\u001b[0;34m(self, raw_documents, fixed_vocab)\u001b[0m\n\u001b[1;32m   1108\u001b[0m         \u001b[0;32mfor\u001b[0m \u001b[0mdoc\u001b[0m \u001b[0;32min\u001b[0m \u001b[0mraw_documents\u001b[0m\u001b[0;34m:\u001b[0m\u001b[0;34m\u001b[0m\u001b[0;34m\u001b[0m\u001b[0m\n\u001b[1;32m   1109\u001b[0m             \u001b[0mfeature_counter\u001b[0m \u001b[0;34m=\u001b[0m \u001b[0;34m{\u001b[0m\u001b[0;34m}\u001b[0m\u001b[0;34m\u001b[0m\u001b[0;34m\u001b[0m\u001b[0m\n\u001b[0;32m-> 1110\u001b[0;31m             \u001b[0;32mfor\u001b[0m \u001b[0mfeature\u001b[0m \u001b[0;32min\u001b[0m \u001b[0manalyze\u001b[0m\u001b[0;34m(\u001b[0m\u001b[0mdoc\u001b[0m\u001b[0;34m)\u001b[0m\u001b[0;34m:\u001b[0m\u001b[0;34m\u001b[0m\u001b[0;34m\u001b[0m\u001b[0m\n\u001b[0m\u001b[1;32m   1111\u001b[0m                 \u001b[0;32mtry\u001b[0m\u001b[0;34m:\u001b[0m\u001b[0;34m\u001b[0m\u001b[0;34m\u001b[0m\u001b[0m\n\u001b[1;32m   1112\u001b[0m                     \u001b[0mfeature_idx\u001b[0m \u001b[0;34m=\u001b[0m \u001b[0mvocabulary\u001b[0m\u001b[0;34m[\u001b[0m\u001b[0mfeature\u001b[0m\u001b[0;34m]\u001b[0m\u001b[0;34m\u001b[0m\u001b[0;34m\u001b[0m\u001b[0m\n",
      "\u001b[0;32m~/anaconda3/lib/python3.8/site-packages/sklearn/feature_extraction/text.py\u001b[0m in \u001b[0;36m_analyze\u001b[0;34m(doc, analyzer, tokenizer, ngrams, preprocessor, decoder, stop_words)\u001b[0m\n\u001b[1;32m     97\u001b[0m \u001b[0;34m\u001b[0m\u001b[0m\n\u001b[1;32m     98\u001b[0m     \u001b[0;32mif\u001b[0m \u001b[0mdecoder\u001b[0m \u001b[0;32mis\u001b[0m \u001b[0;32mnot\u001b[0m \u001b[0;32mNone\u001b[0m\u001b[0;34m:\u001b[0m\u001b[0;34m\u001b[0m\u001b[0;34m\u001b[0m\u001b[0m\n\u001b[0;32m---> 99\u001b[0;31m         \u001b[0mdoc\u001b[0m \u001b[0;34m=\u001b[0m \u001b[0mdecoder\u001b[0m\u001b[0;34m(\u001b[0m\u001b[0mdoc\u001b[0m\u001b[0;34m)\u001b[0m\u001b[0;34m\u001b[0m\u001b[0;34m\u001b[0m\u001b[0m\n\u001b[0m\u001b[1;32m    100\u001b[0m     \u001b[0;32mif\u001b[0m \u001b[0manalyzer\u001b[0m \u001b[0;32mis\u001b[0m \u001b[0;32mnot\u001b[0m \u001b[0;32mNone\u001b[0m\u001b[0;34m:\u001b[0m\u001b[0;34m\u001b[0m\u001b[0;34m\u001b[0m\u001b[0m\n\u001b[1;32m    101\u001b[0m         \u001b[0mdoc\u001b[0m \u001b[0;34m=\u001b[0m \u001b[0manalyzer\u001b[0m\u001b[0;34m(\u001b[0m\u001b[0mdoc\u001b[0m\u001b[0;34m)\u001b[0m\u001b[0;34m\u001b[0m\u001b[0;34m\u001b[0m\u001b[0m\n",
      "\u001b[0;32m~/anaconda3/lib/python3.8/site-packages/sklearn/feature_extraction/text.py\u001b[0m in \u001b[0;36mdecode\u001b[0;34m(self, doc)\u001b[0m\n\u001b[1;32m    217\u001b[0m \u001b[0;34m\u001b[0m\u001b[0m\n\u001b[1;32m    218\u001b[0m         \u001b[0;32mif\u001b[0m \u001b[0mdoc\u001b[0m \u001b[0;32mis\u001b[0m \u001b[0mnp\u001b[0m\u001b[0;34m.\u001b[0m\u001b[0mnan\u001b[0m\u001b[0;34m:\u001b[0m\u001b[0;34m\u001b[0m\u001b[0;34m\u001b[0m\u001b[0m\n\u001b[0;32m--> 219\u001b[0;31m             raise ValueError(\"np.nan is an invalid document, expected byte or \"\n\u001b[0m\u001b[1;32m    220\u001b[0m                              \"unicode string.\")\n\u001b[1;32m    221\u001b[0m \u001b[0;34m\u001b[0m\u001b[0m\n",
      "\u001b[0;31mValueError\u001b[0m: np.nan is an invalid document, expected byte or unicode string."
     ]
    }
   ],
   "source": [
    "# from sklearn.feature_extraction.text import CountVectorizer, TfidfVectorizer\n",
    "# cv = CountVectorizer(binary=False) \n",
    "\n",
    "# #apply the transformation\n",
    "# cv_default = cv.fit_transform(test_df['Article']) # bag of words\n",
    "# print(cv_default.shape)\n",
    "# # \"bag of words\"\n",
    "# # names = cv.get_feature_names()\n",
    "# # count = np.sum(cv_default.toarray(), axis = 0) # add up feature counts \n",
    "# # count2 = count.tolist()  # convert numpy array to list\n",
    "# # count_df = pd.DataFrame(count2, index = names, columns = ['count'])\n",
    "# # # following line is getting top 15 features by count instead of alphabetical\n",
    "# count_df.sort_values(['count'], ascending = False)[0:16]  #arrange by count"
   ]
  },
  {
   "cell_type": "code",
   "execution_count": null,
   "id": "lovely-appreciation",
   "metadata": {},
   "outputs": [],
   "source": []
  },
  {
   "cell_type": "code",
   "execution_count": null,
   "id": "split-salmon",
   "metadata": {},
   "outputs": [],
   "source": []
  },
  {
   "cell_type": "code",
   "execution_count": null,
   "id": "personal-orlando",
   "metadata": {},
   "outputs": [],
   "source": []
  }
 ],
 "metadata": {
  "kernelspec": {
   "display_name": "Python 3",
   "language": "python",
   "name": "python3"
  },
  "language_info": {
   "codemirror_mode": {
    "name": "ipython",
    "version": 3
   },
   "file_extension": ".py",
   "mimetype": "text/x-python",
   "name": "python",
   "nbconvert_exporter": "python",
   "pygments_lexer": "ipython3",
   "version": "3.8.2"
  }
 },
 "nbformat": 4,
 "nbformat_minor": 5
}
