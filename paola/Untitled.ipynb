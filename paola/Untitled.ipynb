{
 "cells": [
  {
   "cell_type": "code",
   "execution_count": 2,
   "id": "trying-lithuania",
   "metadata": {},
   "outputs": [
    {
     "name": "stdout",
     "output_type": "stream",
     "text": [
      "Collecting newspaper3k\n",
      "  Using cached newspaper3k-0.2.8-py3-none-any.whl (211 kB)\n",
      "Collecting feedfinder2>=0.0.4\n",
      "  Using cached feedfinder2-0.0.4.tar.gz (3.3 kB)\n",
      "Requirement already satisfied: Pillow>=3.3.0 in c:\\users\\alext\\.conda\\envs\\pythondata\\lib\\site-packages (from newspaper3k) (7.2.0)\n",
      "Collecting jieba3k>=0.35.1\n",
      "  Using cached jieba3k-0.35.1.zip (7.4 MB)\n",
      "Requirement already satisfied: nltk>=3.2.1 in c:\\users\\alext\\.conda\\envs\\pythondata\\lib\\site-packages (from newspaper3k) (3.5)\n",
      "Requirement already satisfied: requests>=2.10.0 in c:\\users\\alext\\.conda\\envs\\pythondata\\lib\\site-packages (from newspaper3k) (2.24.0)\n",
      "Requirement already satisfied: lxml>=3.6.0 in c:\\users\\alext\\.conda\\envs\\pythondata\\lib\\site-packages (from newspaper3k) (4.5.2)\n",
      "Collecting cssselect>=0.9.2\n",
      "  Using cached cssselect-1.1.0-py2.py3-none-any.whl (16 kB)\n",
      "Collecting feedparser>=5.2.1\n",
      "  Using cached feedparser-6.0.2-py3-none-any.whl (80 kB)\n",
      "Requirement already satisfied: PyYAML>=3.11 in c:\\users\\alext\\.conda\\envs\\pythondata\\lib\\site-packages (from newspaper3k) (5.3.1)\n",
      "Collecting tldextract>=2.0.1\n",
      "  Using cached tldextract-3.1.0-py2.py3-none-any.whl (87 kB)\n",
      "Requirement already satisfied: python-dateutil>=2.5.3 in c:\\users\\alext\\.conda\\envs\\pythondata\\lib\\site-packages (from newspaper3k) (2.8.1)\n",
      "Collecting tinysegmenter==0.3\n",
      "  Using cached tinysegmenter-0.3.tar.gz (16 kB)\n",
      "Requirement already satisfied: beautifulsoup4>=4.4.1 in c:\\users\\alext\\.conda\\envs\\pythondata\\lib\\site-packages (from newspaper3k) (4.9.1)\n",
      "Requirement already satisfied: six in c:\\users\\alext\\.conda\\envs\\pythondata\\lib\\site-packages (from feedfinder2>=0.0.4->newspaper3k) (1.15.0)\n",
      "Requirement already satisfied: tqdm in c:\\users\\alext\\.conda\\envs\\pythondata\\lib\\site-packages (from nltk>=3.2.1->newspaper3k) (4.47.0)\n",
      "Requirement already satisfied: click in c:\\users\\alext\\.conda\\envs\\pythondata\\lib\\site-packages (from nltk>=3.2.1->newspaper3k) (7.1.2)\n",
      "Requirement already satisfied: regex in c:\\users\\alext\\.conda\\envs\\pythondata\\lib\\site-packages (from nltk>=3.2.1->newspaper3k) (2020.6.8)\n",
      "Requirement already satisfied: joblib in c:\\users\\alext\\.conda\\envs\\pythondata\\lib\\site-packages (from nltk>=3.2.1->newspaper3k) (0.16.0)\n",
      "Requirement already satisfied: idna<3,>=2.5 in c:\\users\\alext\\.conda\\envs\\pythondata\\lib\\site-packages (from requests>=2.10.0->newspaper3k) (2.10)\n",
      "Requirement already satisfied: chardet<4,>=3.0.2 in c:\\users\\alext\\.conda\\envs\\pythondata\\lib\\site-packages (from requests>=2.10.0->newspaper3k) (3.0.4)\n",
      "Requirement already satisfied: urllib3!=1.25.0,!=1.25.1,<1.26,>=1.21.1 in c:\\users\\alext\\.conda\\envs\\pythondata\\lib\\site-packages (from requests>=2.10.0->newspaper3k) (1.25.9)\n",
      "Requirement already satisfied: certifi>=2017.4.17 in c:\\users\\alext\\.conda\\envs\\pythondata\\lib\\site-packages (from requests>=2.10.0->newspaper3k) (2020.6.20)\n",
      "Collecting sgmllib3k\n",
      "  Using cached sgmllib3k-1.0.0.tar.gz (5.8 kB)\n",
      "Collecting requests-file>=1.4\n",
      "  Using cached requests_file-1.5.1-py2.py3-none-any.whl (3.7 kB)\n",
      "Requirement already satisfied: filelock>=3.0.8 in c:\\users\\alext\\.conda\\envs\\pythondata\\lib\\site-packages (from tldextract>=2.0.1->newspaper3k) (3.0.12)\n",
      "Requirement already satisfied: soupsieve>1.2 in c:\\users\\alext\\.conda\\envs\\pythondata\\lib\\site-packages (from beautifulsoup4>=4.4.1->newspaper3k) (2.0.1)\n",
      "Building wheels for collected packages: feedfinder2, jieba3k, tinysegmenter, sgmllib3k\n",
      "  Building wheel for feedfinder2 (setup.py): started\n",
      "  Building wheel for feedfinder2 (setup.py): finished with status 'done'\n",
      "  Created wheel for feedfinder2: filename=feedfinder2-0.0.4-py3-none-any.whl size=3359 sha256=3625467da7f561b3caa7726ceec11defa80c3a48a87272bcf986eb425c8925fe\n",
      "  Stored in directory: c:\\users\\alext\\appdata\\local\\pip\\cache\\wheels\\23\\4b\\1d\\fefcdd940e06e465f1df6f7ee0d56c931bbeed14328748cfc6\n",
      "  Building wheel for jieba3k (setup.py): started\n",
      "  Building wheel for jieba3k (setup.py): finished with status 'done'\n",
      "  Created wheel for jieba3k: filename=jieba3k-0.35.1-py3-none-any.whl size=7398410 sha256=3be6fadbbbdfba0f7c54f314020d76f9d6a2e3be5ad2dbd4d38edbe4ec2808d4\n",
      "  Stored in directory: c:\\users\\alext\\appdata\\local\\pip\\cache\\wheels\\f9\\f5\\11\\d67e35ef63e5397aa052f4c84ed5fc6a65bbd9ceb9089cc93b\n",
      "  Building wheel for tinysegmenter (setup.py): started\n",
      "  Building wheel for tinysegmenter (setup.py): finished with status 'done'\n",
      "  Created wheel for tinysegmenter: filename=tinysegmenter-0.3-py3-none-any.whl size=13542 sha256=6a53fd5a6643c01b2ae9eef97df187097a11f6b6a23f41aac0535b080860edad\n",
      "  Stored in directory: c:\\users\\alext\\appdata\\local\\pip\\cache\\wheels\\1a\\ca\\c1\\1e27eacc3fd0cca25b5383253141ba07694e926a10c3bdc549\n",
      "  Building wheel for sgmllib3k (setup.py): started\n",
      "  Building wheel for sgmllib3k (setup.py): finished with status 'done'\n",
      "  Created wheel for sgmllib3k: filename=sgmllib3k-1.0.0-py3-none-any.whl size=6071 sha256=33e2188496c9f131621b3de1313a3068afd2010778e28061649e5ca1ea51799c\n",
      "  Stored in directory: c:\\users\\alext\\appdata\\local\\pip\\cache\\wheels\\bb\\cb\\26\\83c0b63161dc478ded6db8d83a148d32b6cce8606043c2023b\n",
      "Successfully built feedfinder2 jieba3k tinysegmenter sgmllib3k\n",
      "Installing collected packages: feedfinder2, jieba3k, cssselect, sgmllib3k, feedparser, requests-file, tldextract, tinysegmenter, newspaper3k\n",
      "Successfully installed cssselect-1.1.0 feedfinder2-0.0.4 feedparser-6.0.2 jieba3k-0.35.1 newspaper3k-0.2.8 requests-file-1.5.1 sgmllib3k-1.0.0 tinysegmenter-0.3 tldextract-3.1.0\n"
     ]
    }
   ],
   "source": [
    "# !pip install newspaper3k"
   ]
  },
  {
   "cell_type": "code",
   "execution_count": 3,
   "id": "blocked-operation",
   "metadata": {},
   "outputs": [],
   "source": [
    "import newspaper\n",
    "from newspaper import Article\n",
    "import urllib"
   ]
  },
  {
   "cell_type": "code",
   "execution_count": 4,
   "id": "bulgarian-meter",
   "metadata": {},
   "outputs": [],
   "source": [
    "url = \"https://abcnews.go.com/Sports/wireStory/detectives-find-tiger-woods-crash-reveal-76796020?cid=clicksource_4380645_3_heads_hero_live_twopack_image\"\n",
    "url = urllib.parse.unquote(url)\n",
    "article = Article(str(url))\n",
    "article.download()\n",
    "article.parse()\n",
    "article.nlp()\n",
    "    \n",
    "news = article.summary"
   ]
  },
  {
   "cell_type": "code",
   "execution_count": 5,
   "id": "first-detail",
   "metadata": {},
   "outputs": [
    {
     "data": {
      "text/plain": [
       "\"Woods suffered serious injuries in the Feb. 23 crash when he struck a raised median around 7 a.m. in Rolling Hills Estates, just outside Los Angeles.\\nWoods told deputies he did not know how the crash occurred and didn’t remember driving.\\nInvestigators did not seek a search warrant for Woods' blood samples, which could be screened for drugs and alcohol.\\nBut Villanueva claimed investigators need permission from Woods — who previously named his yacht “Privacy” — to release information about the crash.\\nWoods is from the Los Angeles area and was back home to host his PGA tournament, the Genesis Invitational at Riviera Country Club, which ended two days before the crash.\""
      ]
     },
     "execution_count": 5,
     "metadata": {},
     "output_type": "execute_result"
    }
   ],
   "source": [
    "news"
   ]
  },
  {
   "cell_type": "code",
   "execution_count": null,
   "id": "aerial-audio",
   "metadata": {},
   "outputs": [],
   "source": []
  },
  {
   "cell_type": "code",
   "execution_count": null,
   "id": "hawaiian-ottawa",
   "metadata": {},
   "outputs": [],
   "source": []
  },
  {
   "cell_type": "code",
   "execution_count": null,
   "id": "friendly-gathering",
   "metadata": {},
   "outputs": [],
   "source": []
  }
 ],
 "metadata": {
  "kernelspec": {
   "display_name": "Python [conda env:.conda-PythonData]",
   "language": "python",
   "name": "conda-env-.conda-PythonData-py"
  },
  "language_info": {
   "codemirror_mode": {
    "name": "ipython",
    "version": 3
   },
   "file_extension": ".py",
   "mimetype": "text/x-python",
   "name": "python",
   "nbconvert_exporter": "python",
   "pygments_lexer": "ipython3",
   "version": "3.6.10"
  }
 },
 "nbformat": 4,
 "nbformat_minor": 5
}
