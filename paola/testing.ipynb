{
 "cells": [
  {
   "cell_type": "code",
   "execution_count": 118,
   "id": "sublime-homework",
   "metadata": {},
   "outputs": [],
   "source": [
    "import numpy as np\n",
    "import pandas as pd\n",
    "import itertools\n",
    "\n"
   ]
  },
  {
   "cell_type": "code",
   "execution_count": 119,
   "id": "bright-peripheral",
   "metadata": {},
   "outputs": [
    {
     "data": {
      "text/html": [
       "<div>\n",
       "<style scoped>\n",
       "    .dataframe tbody tr th:only-of-type {\n",
       "        vertical-align: middle;\n",
       "    }\n",
       "\n",
       "    .dataframe tbody tr th {\n",
       "        vertical-align: top;\n",
       "    }\n",
       "\n",
       "    .dataframe thead th {\n",
       "        text-align: right;\n",
       "    }\n",
       "</style>\n",
       "<table border=\"1\" class=\"dataframe\">\n",
       "  <thead>\n",
       "    <tr style=\"text-align: right;\">\n",
       "      <th></th>\n",
       "      <th>Unnamed: 0</th>\n",
       "      <th>title</th>\n",
       "      <th>text</th>\n",
       "      <th>label</th>\n",
       "    </tr>\n",
       "  </thead>\n",
       "  <tbody>\n",
       "    <tr>\n",
       "      <th>0</th>\n",
       "      <td>8476</td>\n",
       "      <td>You Can Smell Hillary’s Fear</td>\n",
       "      <td>Daniel Greenfield, a Shillman Journalism Fello...</td>\n",
       "      <td>FAKE</td>\n",
       "    </tr>\n",
       "    <tr>\n",
       "      <th>1</th>\n",
       "      <td>10294</td>\n",
       "      <td>Watch The Exact Moment Paul Ryan Committed Pol...</td>\n",
       "      <td>Google Pinterest Digg Linkedin Reddit Stumbleu...</td>\n",
       "      <td>FAKE</td>\n",
       "    </tr>\n",
       "    <tr>\n",
       "      <th>2</th>\n",
       "      <td>3608</td>\n",
       "      <td>Kerry to go to Paris in gesture of sympathy</td>\n",
       "      <td>U.S. Secretary of State John F. Kerry said Mon...</td>\n",
       "      <td>REAL</td>\n",
       "    </tr>\n",
       "    <tr>\n",
       "      <th>3</th>\n",
       "      <td>10142</td>\n",
       "      <td>Bernie supporters on Twitter erupt in anger ag...</td>\n",
       "      <td>— Kaydee King (@KaydeeKing) November 9, 2016 T...</td>\n",
       "      <td>FAKE</td>\n",
       "    </tr>\n",
       "    <tr>\n",
       "      <th>4</th>\n",
       "      <td>875</td>\n",
       "      <td>The Battle of New York: Why This Primary Matters</td>\n",
       "      <td>It's primary day in New York and front-runners...</td>\n",
       "      <td>REAL</td>\n",
       "    </tr>\n",
       "  </tbody>\n",
       "</table>\n",
       "</div>"
      ],
      "text/plain": [
       "   Unnamed: 0                                              title  \\\n",
       "0        8476                       You Can Smell Hillary’s Fear   \n",
       "1       10294  Watch The Exact Moment Paul Ryan Committed Pol...   \n",
       "2        3608        Kerry to go to Paris in gesture of sympathy   \n",
       "3       10142  Bernie supporters on Twitter erupt in anger ag...   \n",
       "4         875   The Battle of New York: Why This Primary Matters   \n",
       "\n",
       "                                                text label  \n",
       "0  Daniel Greenfield, a Shillman Journalism Fello...  FAKE  \n",
       "1  Google Pinterest Digg Linkedin Reddit Stumbleu...  FAKE  \n",
       "2  U.S. Secretary of State John F. Kerry said Mon...  REAL  \n",
       "3  — Kaydee King (@KaydeeKing) November 9, 2016 T...  FAKE  \n",
       "4  It's primary day in New York and front-runners...  REAL  "
      ]
     },
     "execution_count": 119,
     "metadata": {},
     "output_type": "execute_result"
    }
   ],
   "source": [
    "# Import data\n",
    "df = pd.read_csv('news/news.csv')\n",
    "df.head()"
   ]
  },
  {
   "cell_type": "code",
   "execution_count": 120,
   "id": "competent-swedish",
   "metadata": {},
   "outputs": [],
   "source": [
    "# df.columns ['id', 'title', 'text', 'label']"
   ]
  },
  {
   "cell_type": "code",
   "execution_count": 121,
   "id": "rising-expert",
   "metadata": {
    "scrolled": true
   },
   "outputs": [
    {
     "data": {
      "text/html": [
       "<div>\n",
       "<style scoped>\n",
       "    .dataframe tbody tr th:only-of-type {\n",
       "        vertical-align: middle;\n",
       "    }\n",
       "\n",
       "    .dataframe tbody tr th {\n",
       "        vertical-align: top;\n",
       "    }\n",
       "\n",
       "    .dataframe thead th {\n",
       "        text-align: right;\n",
       "    }\n",
       "</style>\n",
       "<table border=\"1\" class=\"dataframe\">\n",
       "  <thead>\n",
       "    <tr style=\"text-align: right;\">\n",
       "      <th></th>\n",
       "      <th>id</th>\n",
       "      <th>title</th>\n",
       "      <th>text</th>\n",
       "      <th>label</th>\n",
       "    </tr>\n",
       "  </thead>\n",
       "  <tbody>\n",
       "    <tr>\n",
       "      <th>0</th>\n",
       "      <td>8476</td>\n",
       "      <td>You Can Smell Hillary’s Fear</td>\n",
       "      <td>Daniel Greenfield, a Shillman Journalism Fello...</td>\n",
       "      <td>FAKE</td>\n",
       "    </tr>\n",
       "    <tr>\n",
       "      <th>1</th>\n",
       "      <td>10294</td>\n",
       "      <td>Watch The Exact Moment Paul Ryan Committed Pol...</td>\n",
       "      <td>Google Pinterest Digg Linkedin Reddit Stumbleu...</td>\n",
       "      <td>FAKE</td>\n",
       "    </tr>\n",
       "    <tr>\n",
       "      <th>2</th>\n",
       "      <td>3608</td>\n",
       "      <td>Kerry to go to Paris in gesture of sympathy</td>\n",
       "      <td>U.S. Secretary of State John F. Kerry said Mon...</td>\n",
       "      <td>REAL</td>\n",
       "    </tr>\n",
       "    <tr>\n",
       "      <th>3</th>\n",
       "      <td>10142</td>\n",
       "      <td>Bernie supporters on Twitter erupt in anger ag...</td>\n",
       "      <td>— Kaydee King (@KaydeeKing) November 9, 2016 T...</td>\n",
       "      <td>FAKE</td>\n",
       "    </tr>\n",
       "    <tr>\n",
       "      <th>4</th>\n",
       "      <td>875</td>\n",
       "      <td>The Battle of New York: Why This Primary Matters</td>\n",
       "      <td>It's primary day in New York and front-runners...</td>\n",
       "      <td>REAL</td>\n",
       "    </tr>\n",
       "  </tbody>\n",
       "</table>\n",
       "</div>"
      ],
      "text/plain": [
       "      id                                              title  \\\n",
       "0   8476                       You Can Smell Hillary’s Fear   \n",
       "1  10294  Watch The Exact Moment Paul Ryan Committed Pol...   \n",
       "2   3608        Kerry to go to Paris in gesture of sympathy   \n",
       "3  10142  Bernie supporters on Twitter erupt in anger ag...   \n",
       "4    875   The Battle of New York: Why This Primary Matters   \n",
       "\n",
       "                                                text label  \n",
       "0  Daniel Greenfield, a Shillman Journalism Fello...  FAKE  \n",
       "1  Google Pinterest Digg Linkedin Reddit Stumbleu...  FAKE  \n",
       "2  U.S. Secretary of State John F. Kerry said Mon...  REAL  \n",
       "3  — Kaydee King (@KaydeeKing) November 9, 2016 T...  FAKE  \n",
       "4  It's primary day in New York and front-runners...  REAL  "
      ]
     },
     "execution_count": 121,
     "metadata": {},
     "output_type": "execute_result"
    }
   ],
   "source": [
    "test_df = df.rename(columns={\"Unnamed: 0\": \"id\"})\n",
    "test_df.head()"
   ]
  },
  {
   "cell_type": "code",
   "execution_count": 122,
   "id": "twelve-cotton",
   "metadata": {},
   "outputs": [],
   "source": [
    "# test_df = test_df.set_index(\"id\")\n",
    "# test_df.head()"
   ]
  },
  {
   "cell_type": "code",
   "execution_count": 123,
   "id": "ambient-subscription",
   "metadata": {},
   "outputs": [
    {
     "data": {
      "text/html": [
       "<div>\n",
       "<style scoped>\n",
       "    .dataframe tbody tr th:only-of-type {\n",
       "        vertical-align: middle;\n",
       "    }\n",
       "\n",
       "    .dataframe tbody tr th {\n",
       "        vertical-align: top;\n",
       "    }\n",
       "\n",
       "    .dataframe thead th {\n",
       "        text-align: right;\n",
       "    }\n",
       "</style>\n",
       "<table border=\"1\" class=\"dataframe\">\n",
       "  <thead>\n",
       "    <tr style=\"text-align: right;\">\n",
       "      <th></th>\n",
       "      <th>id</th>\n",
       "      <th>title</th>\n",
       "      <th>text</th>\n",
       "      <th>label</th>\n",
       "    </tr>\n",
       "  </thead>\n",
       "  <tbody>\n",
       "    <tr>\n",
       "      <th>0</th>\n",
       "      <td>8476</td>\n",
       "      <td>You Can Smell Hillary’s Fear</td>\n",
       "      <td>Daniel Greenfield, a Shillman Journalism Fello...</td>\n",
       "      <td>FAKE</td>\n",
       "    </tr>\n",
       "    <tr>\n",
       "      <th>1</th>\n",
       "      <td>10294</td>\n",
       "      <td>Watch The Exact Moment Paul Ryan Committed Pol...</td>\n",
       "      <td>Google Pinterest Digg Linkedin Reddit Stumbleu...</td>\n",
       "      <td>FAKE</td>\n",
       "    </tr>\n",
       "    <tr>\n",
       "      <th>2</th>\n",
       "      <td>3608</td>\n",
       "      <td>Kerry to go to Paris in gesture of sympathy</td>\n",
       "      <td>U.S. Secretary of State John F. Kerry said Mon...</td>\n",
       "      <td>REAL</td>\n",
       "    </tr>\n",
       "    <tr>\n",
       "      <th>3</th>\n",
       "      <td>10142</td>\n",
       "      <td>Bernie supporters on Twitter erupt in anger ag...</td>\n",
       "      <td>— Kaydee King (@KaydeeKing) November 9, 2016 T...</td>\n",
       "      <td>FAKE</td>\n",
       "    </tr>\n",
       "    <tr>\n",
       "      <th>4</th>\n",
       "      <td>875</td>\n",
       "      <td>The Battle of New York: Why This Primary Matters</td>\n",
       "      <td>It's primary day in New York and front-runners...</td>\n",
       "      <td>REAL</td>\n",
       "    </tr>\n",
       "  </tbody>\n",
       "</table>\n",
       "</div>"
      ],
      "text/plain": [
       "      id                                              title  \\\n",
       "0   8476                       You Can Smell Hillary’s Fear   \n",
       "1  10294  Watch The Exact Moment Paul Ryan Committed Pol...   \n",
       "2   3608        Kerry to go to Paris in gesture of sympathy   \n",
       "3  10142  Bernie supporters on Twitter erupt in anger ag...   \n",
       "4    875   The Battle of New York: Why This Primary Matters   \n",
       "\n",
       "                                                text label  \n",
       "0  Daniel Greenfield, a Shillman Journalism Fello...  FAKE  \n",
       "1  Google Pinterest Digg Linkedin Reddit Stumbleu...  FAKE  \n",
       "2  U.S. Secretary of State John F. Kerry said Mon...  REAL  \n",
       "3  — Kaydee King (@KaydeeKing) November 9, 2016 T...  FAKE  \n",
       "4  It's primary day in New York and front-runners...  REAL  "
      ]
     },
     "execution_count": 123,
     "metadata": {},
     "output_type": "execute_result"
    }
   ],
   "source": [
    "test_df.head()"
   ]
  },
  {
   "cell_type": "code",
   "execution_count": 124,
   "id": "cutting-market",
   "metadata": {},
   "outputs": [],
   "source": [
    "# test_df[\"title\"].to_csv(\"new_test_data_title.csv\", index=True)\n",
    "# test_df[\"text\"].to_csv(\"new_test_data_text.csv\", index=True)\n",
    "# test_df[\"label\"].to_csv(\"new_test_data_label.csv\", index=True)"
   ]
  },
  {
   "cell_type": "code",
   "execution_count": 125,
   "id": "graphic-sunglasses",
   "metadata": {},
   "outputs": [],
   "source": [
    "# test_df.to_json(\"new_test_data.json\", index=True, orient=\"records\")"
   ]
  },
  {
   "cell_type": "code",
   "execution_count": 126,
   "id": "surprising-encyclopedia",
   "metadata": {},
   "outputs": [],
   "source": [
    "# test_df = pd.read_json(\"new_test_data.json\")"
   ]
  },
  {
   "cell_type": "code",
   "execution_count": 127,
   "id": "cosmetic-skirt",
   "metadata": {},
   "outputs": [
    {
     "data": {
      "text/plain": [
       "id        int64\n",
       "title    object\n",
       "text     object\n",
       "label    object\n",
       "dtype: object"
      ]
     },
     "execution_count": 127,
     "metadata": {},
     "output_type": "execute_result"
    }
   ],
   "source": [
    "test_df.dtypes"
   ]
  },
  {
   "cell_type": "code",
   "execution_count": 128,
   "id": "rental-village",
   "metadata": {},
   "outputs": [
    {
     "data": {
      "text/plain": [
       "0    FAKE\n",
       "1    FAKE\n",
       "2    REAL\n",
       "3    FAKE\n",
       "4    REAL\n",
       "Name: label, dtype: object"
      ]
     },
     "execution_count": 128,
     "metadata": {},
     "output_type": "execute_result"
    }
   ],
   "source": [
    "labels = test_df.label\n",
    "labels.head()"
   ]
  },
  {
   "cell_type": "code",
   "execution_count": 129,
   "id": "advised-detection",
   "metadata": {},
   "outputs": [],
   "source": [
    "from sklearn.model_selection import train_test_split\n",
    "\n",
    "# Split Dataset\n",
    "X_train, X_test, y_train, y_test = train_test_split(test_df['text'], labels, test_size=0.2, random_state=7)"
   ]
  },
  {
   "cell_type": "code",
   "execution_count": 130,
   "id": "willing-person",
   "metadata": {},
   "outputs": [],
   "source": [
    "from sklearn.feature_extraction.text import TfidfVectorizer\n",
    "\n",
    "# Initialize a TfidfVectorizer\n",
    "tfidf_vectorizer = TfidfVectorizer(stop_words='english', max_df=0.7)\n",
    "# Fit and transform train set, transform test set\n",
    "tfidf_train = tfidf_vectorizer.fit_transform(X_train) \n",
    "tfidf_test = tfidf_vectorizer.transform(X_test)"
   ]
  },
  {
   "cell_type": "code",
   "execution_count": 142,
   "id": "romantic-contractor",
   "metadata": {},
   "outputs": [
    {
     "data": {
      "text/plain": [
       "<5068x61651 sparse matrix of type '<class 'numpy.float64'>'\n",
       "\twith 1337098 stored elements in Compressed Sparse Row format>"
      ]
     },
     "execution_count": 142,
     "metadata": {},
     "output_type": "execute_result"
    }
   ],
   "source": [
    "# X_train\n",
    "# X_test\n",
    "# tfidf_train"
   ]
  },
  {
   "cell_type": "code",
   "execution_count": 131,
   "id": "approximate-reputation",
   "metadata": {},
   "outputs": [
    {
     "name": "stdout",
     "output_type": "stream",
     "text": [
      "Accuracy: 92.9%\n"
     ]
    }
   ],
   "source": [
    "from sklearn.linear_model import PassiveAggressiveClassifier\n",
    "from sklearn.metrics import accuracy_score, confusion_matrix\n",
    "\n",
    "# Initialize a PassiveAggressiveClassifier\n",
    "pac = PassiveAggressiveClassifier(max_iter=50)\n",
    "pac.fit(tfidf_train, y_train)\n",
    "# Predict on the test set and calculate accuracy\n",
    "y_pred = pac.predict(tfidf_test)\n",
    "score = accuracy_score(y_test, y_pred)\n",
    "print(f'Accuracy: {round(score*100,2)}%')"
   ]
  },
  {
   "cell_type": "code",
   "execution_count": 104,
   "id": "young-detail",
   "metadata": {},
   "outputs": [
    {
     "data": {
      "text/plain": [
       "array([[593,  45],\n",
       "       [ 44, 585]], dtype=int64)"
      ]
     },
     "execution_count": 104,
     "metadata": {},
     "output_type": "execute_result"
    }
   ],
   "source": [
    "# # Build confusion matrix\n",
    "# confusion_matrix(y_test,y_pred, labels=['FAKE','REAL'])\n",
    "\n",
    "#593 true positives, 585 true negatives, 45 false positives, & 44 false negatives"
   ]
  },
  {
   "cell_type": "code",
   "execution_count": 102,
   "id": "recent-cattle",
   "metadata": {},
   "outputs": [],
   "source": [
    "# Training the model using headline\n",
    "prediction_text = \"Krispy Kreme Offers Vaccinated Customers Free Ride On Glaze Conveyor Belt\""
   ]
  },
  {
   "cell_type": "code",
   "execution_count": 103,
   "id": "liked-mentor",
   "metadata": {},
   "outputs": [
    {
     "data": {
      "text/plain": [
       "array(['FAKE'], dtype='<U4')"
      ]
     },
     "execution_count": 103,
     "metadata": {},
     "output_type": "execute_result"
    }
   ],
   "source": [
    "test_pred = pd.Series(prediction_text)\n",
    "tfidf_vec_test = tfidf_vectorizer.transform(test_pred)\n",
    "pac.predict(tfidf_vec_test)"
   ]
  },
  {
   "cell_type": "code",
   "execution_count": null,
   "id": "forced-february",
   "metadata": {},
   "outputs": [],
   "source": []
  },
  {
   "cell_type": "code",
   "execution_count": null,
   "id": "helpful-worst",
   "metadata": {},
   "outputs": [],
   "source": []
  },
  {
   "cell_type": "code",
   "execution_count": 106,
   "id": "primary-matthew",
   "metadata": {},
   "outputs": [
    {
     "data": {
      "text/html": [
       "<div>\n",
       "<style scoped>\n",
       "    .dataframe tbody tr th:only-of-type {\n",
       "        vertical-align: middle;\n",
       "    }\n",
       "\n",
       "    .dataframe tbody tr th {\n",
       "        vertical-align: top;\n",
       "    }\n",
       "\n",
       "    .dataframe thead th {\n",
       "        text-align: right;\n",
       "    }\n",
       "</style>\n",
       "<table border=\"1\" class=\"dataframe\">\n",
       "  <thead>\n",
       "    <tr style=\"text-align: right;\">\n",
       "      <th></th>\n",
       "      <th>Title</th>\n",
       "      <th>Article</th>\n",
       "      <th>Headline</th>\n",
       "      <th>Title_URL</th>\n",
       "      <th>Image</th>\n",
       "      <th>Facebook_likes</th>\n",
       "      <th>Facebook_comments</th>\n",
       "      <th>Facebook_shares</th>\n",
       "      <th>Comment_replies</th>\n",
       "    </tr>\n",
       "  </thead>\n",
       "  <tbody>\n",
       "    <tr>\n",
       "      <th>0</th>\n",
       "      <td>CNN</td>\n",
       "      <td>Po Murray writes that the two mass killings in...</td>\n",
       "      <td>Opinion: What has to happen after the Colorado...</td>\n",
       "      <td>https://www.facebook.com/cnn/?__cft__[0]=AZVAV...</td>\n",
       "      <td>https://external-sjc3-1.xx.fbcdn.net/safe_imag...</td>\n",
       "      <td>102</td>\n",
       "      <td>98 Comments</td>\n",
       "      <td>6 Shares</td>\n",
       "      <td>1 Reply</td>\n",
       "    </tr>\n",
       "    <tr>\n",
       "      <th>1</th>\n",
       "      <td>CNN</td>\n",
       "      <td>Mississippi is one of three states that have e...</td>\n",
       "      <td>More states aim to offer Covid-19 vaccines to ...</td>\n",
       "      <td>https://www.facebook.com/cnn/?__cft__[0]=AZU2o...</td>\n",
       "      <td>https://external-sjc3-1.xx.fbcdn.net/safe_imag...</td>\n",
       "      <td>574</td>\n",
       "      <td>98 Comments</td>\n",
       "      <td>31 Shares</td>\n",
       "      <td>1 Reply</td>\n",
       "    </tr>\n",
       "    <tr>\n",
       "      <th>2</th>\n",
       "      <td>CNN</td>\n",
       "      <td>In 2018, the city of Boulder, Colorado, passed...</td>\n",
       "      <td>Boulder banned assault weapons in 2018. A judg...</td>\n",
       "      <td>https://www.facebook.com/cnn/?__cft__[0]=AZVNa...</td>\n",
       "      <td>https://external-sjc3-1.xx.fbcdn.net/safe_imag...</td>\n",
       "      <td>1.1K</td>\n",
       "      <td>1.2K Comments</td>\n",
       "      <td>119 Shares</td>\n",
       "      <td>112 Replies</td>\n",
       "    </tr>\n",
       "    <tr>\n",
       "      <th>3</th>\n",
       "      <td>CNN</td>\n",
       "      <td>\"The life of a single parent is challenging to...</td>\n",
       "      <td>Opinion: My Covid life as a single mom: Like j...</td>\n",
       "      <td>https://www.facebook.com/cnn/?__cft__[0]=AZWhO...</td>\n",
       "      <td>https://external-sjc3-1.xx.fbcdn.net/safe_imag...</td>\n",
       "      <td>554</td>\n",
       "      <td>202 Comments</td>\n",
       "      <td>37 Shares</td>\n",
       "      <td>9 Replies</td>\n",
       "    </tr>\n",
       "    <tr>\n",
       "      <th>4</th>\n",
       "      <td>CNN</td>\n",
       "      <td>British people attempting to go on vacation wh...</td>\n",
       "      <td>New UK law means $7,000 fines for vacations ab...</td>\n",
       "      <td>https://www.facebook.com/cnn/?__cft__[0]=AZXIu...</td>\n",
       "      <td>https://external-sjc3-1.xx.fbcdn.net/safe_imag...</td>\n",
       "      <td>912</td>\n",
       "      <td>390 Comments</td>\n",
       "      <td>83 Shares</td>\n",
       "      <td>View more comments</td>\n",
       "    </tr>\n",
       "  </tbody>\n",
       "</table>\n",
       "</div>"
      ],
      "text/plain": [
       "  Title                                            Article  \\\n",
       "0   CNN  Po Murray writes that the two mass killings in...   \n",
       "1   CNN  Mississippi is one of three states that have e...   \n",
       "2   CNN  In 2018, the city of Boulder, Colorado, passed...   \n",
       "3   CNN  \"The life of a single parent is challenging to...   \n",
       "4   CNN  British people attempting to go on vacation wh...   \n",
       "\n",
       "                                            Headline  \\\n",
       "0  Opinion: What has to happen after the Colorado...   \n",
       "1  More states aim to offer Covid-19 vaccines to ...   \n",
       "2  Boulder banned assault weapons in 2018. A judg...   \n",
       "3  Opinion: My Covid life as a single mom: Like j...   \n",
       "4  New UK law means $7,000 fines for vacations ab...   \n",
       "\n",
       "                                           Title_URL  \\\n",
       "0  https://www.facebook.com/cnn/?__cft__[0]=AZVAV...   \n",
       "1  https://www.facebook.com/cnn/?__cft__[0]=AZU2o...   \n",
       "2  https://www.facebook.com/cnn/?__cft__[0]=AZVNa...   \n",
       "3  https://www.facebook.com/cnn/?__cft__[0]=AZWhO...   \n",
       "4  https://www.facebook.com/cnn/?__cft__[0]=AZXIu...   \n",
       "\n",
       "                                               Image Facebook_likes  \\\n",
       "0  https://external-sjc3-1.xx.fbcdn.net/safe_imag...            102   \n",
       "1  https://external-sjc3-1.xx.fbcdn.net/safe_imag...            574   \n",
       "2  https://external-sjc3-1.xx.fbcdn.net/safe_imag...           1.1K   \n",
       "3  https://external-sjc3-1.xx.fbcdn.net/safe_imag...            554   \n",
       "4  https://external-sjc3-1.xx.fbcdn.net/safe_imag...            912   \n",
       "\n",
       "  Facebook_comments Facebook_shares     Comment_replies  \n",
       "0       98 Comments        6 Shares             1 Reply  \n",
       "1       98 Comments       31 Shares             1 Reply  \n",
       "2     1.2K Comments      119 Shares         112 Replies  \n",
       "3      202 Comments       37 Shares           9 Replies  \n",
       "4      390 Comments       83 Shares  View more comments  "
      ]
     },
     "execution_count": 106,
     "metadata": {},
     "output_type": "execute_result"
    }
   ],
   "source": [
    "# Training the model using df of articles\n",
    "fb_news_df = pd.read_csv('combined_news_data.csv')\n",
    "fb_news_df.head()"
   ]
  },
  {
   "cell_type": "code",
   "execution_count": 155,
   "id": "closing-northern",
   "metadata": {},
   "outputs": [
    {
     "data": {
      "text/plain": [
       "array(['REAL'], dtype='<U4')"
      ]
     },
     "execution_count": 155,
     "metadata": {},
     "output_type": "execute_result"
    }
   ],
   "source": [
    "fb_articles = pd.Series(fb_news_df[\"Article\"][54])\n",
    "tfidf_vector_test = tfidf_vectorizer.transform(fb_articles)\n",
    "pac.predict(tfidf_vector_test)\n"
   ]
  },
  {
   "cell_type": "code",
   "execution_count": null,
   "id": "recognized-honey",
   "metadata": {},
   "outputs": [],
   "source": []
  }
 ],
 "metadata": {
  "kernelspec": {
   "display_name": "Python [conda env:.conda-PythonAdv] *",
   "language": "python",
   "name": "conda-env-.conda-PythonAdv-py"
  },
  "language_info": {
   "codemirror_mode": {
    "name": "ipython",
    "version": 3
   },
   "file_extension": ".py",
   "mimetype": "text/x-python",
   "name": "python",
   "nbconvert_exporter": "python",
   "pygments_lexer": "ipython3",
   "version": "3.6.12"
  }
 },
 "nbformat": 4,
 "nbformat_minor": 5
}
