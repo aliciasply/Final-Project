{
 "cells": [
  {
   "cell_type": "code",
   "execution_count": 1,
   "id": "sublime-homework",
   "metadata": {},
   "outputs": [],
   "source": [
    "import numpy as np\n",
    "import pandas as pd\n",
    "import itertools\n",
    "from sklearn.model_selection import train_test_split\n",
    "from sklearn.feature_extraction.text import TfidfVectorizer\n",
    "from sklearn.linear_model import PassiveAggressiveClassifier\n",
    "from sklearn.metrics import accuracy_score, confusion_matrix"
   ]
  },
  {
   "cell_type": "code",
   "execution_count": 2,
   "id": "needed-influence",
   "metadata": {},
   "outputs": [],
   "source": [
    "# conda activate PythonAdv"
   ]
  },
  {
   "cell_type": "code",
   "execution_count": 3,
   "id": "bright-peripheral",
   "metadata": {},
   "outputs": [
    {
     "data": {
      "text/html": [
       "<div>\n",
       "<style scoped>\n",
       "    .dataframe tbody tr th:only-of-type {\n",
       "        vertical-align: middle;\n",
       "    }\n",
       "\n",
       "    .dataframe tbody tr th {\n",
       "        vertical-align: top;\n",
       "    }\n",
       "\n",
       "    .dataframe thead th {\n",
       "        text-align: right;\n",
       "    }\n",
       "</style>\n",
       "<table border=\"1\" class=\"dataframe\">\n",
       "  <thead>\n",
       "    <tr style=\"text-align: right;\">\n",
       "      <th></th>\n",
       "      <th>Unnamed: 0</th>\n",
       "      <th>title</th>\n",
       "      <th>text</th>\n",
       "      <th>label</th>\n",
       "    </tr>\n",
       "  </thead>\n",
       "  <tbody>\n",
       "    <tr>\n",
       "      <th>0</th>\n",
       "      <td>8476</td>\n",
       "      <td>You Can Smell Hillary’s Fear</td>\n",
       "      <td>Daniel Greenfield, a Shillman Journalism Fello...</td>\n",
       "      <td>FAKE</td>\n",
       "    </tr>\n",
       "    <tr>\n",
       "      <th>1</th>\n",
       "      <td>10294</td>\n",
       "      <td>Watch The Exact Moment Paul Ryan Committed Pol...</td>\n",
       "      <td>Google Pinterest Digg Linkedin Reddit Stumbleu...</td>\n",
       "      <td>FAKE</td>\n",
       "    </tr>\n",
       "    <tr>\n",
       "      <th>2</th>\n",
       "      <td>3608</td>\n",
       "      <td>Kerry to go to Paris in gesture of sympathy</td>\n",
       "      <td>U.S. Secretary of State John F. Kerry said Mon...</td>\n",
       "      <td>REAL</td>\n",
       "    </tr>\n",
       "    <tr>\n",
       "      <th>3</th>\n",
       "      <td>10142</td>\n",
       "      <td>Bernie supporters on Twitter erupt in anger ag...</td>\n",
       "      <td>— Kaydee King (@KaydeeKing) November 9, 2016 T...</td>\n",
       "      <td>FAKE</td>\n",
       "    </tr>\n",
       "    <tr>\n",
       "      <th>4</th>\n",
       "      <td>875</td>\n",
       "      <td>The Battle of New York: Why This Primary Matters</td>\n",
       "      <td>It's primary day in New York and front-runners...</td>\n",
       "      <td>REAL</td>\n",
       "    </tr>\n",
       "  </tbody>\n",
       "</table>\n",
       "</div>"
      ],
      "text/plain": [
       "   Unnamed: 0                                              title  \\\n",
       "0        8476                       You Can Smell Hillary’s Fear   \n",
       "1       10294  Watch The Exact Moment Paul Ryan Committed Pol...   \n",
       "2        3608        Kerry to go to Paris in gesture of sympathy   \n",
       "3       10142  Bernie supporters on Twitter erupt in anger ag...   \n",
       "4         875   The Battle of New York: Why This Primary Matters   \n",
       "\n",
       "                                                text label  \n",
       "0  Daniel Greenfield, a Shillman Journalism Fello...  FAKE  \n",
       "1  Google Pinterest Digg Linkedin Reddit Stumbleu...  FAKE  \n",
       "2  U.S. Secretary of State John F. Kerry said Mon...  REAL  \n",
       "3  — Kaydee King (@KaydeeKing) November 9, 2016 T...  FAKE  \n",
       "4  It's primary day in New York and front-runners...  REAL  "
      ]
     },
     "execution_count": 3,
     "metadata": {},
     "output_type": "execute_result"
    }
   ],
   "source": [
    "# Import data\n",
    "df = pd.read_csv('news/news.csv')\n",
    "df.head()"
   ]
  },
  {
   "cell_type": "code",
   "execution_count": 4,
   "id": "competent-swedish",
   "metadata": {},
   "outputs": [],
   "source": [
    "# df.columns ['id', 'title', 'text', 'label']"
   ]
  },
  {
   "cell_type": "code",
   "execution_count": 5,
   "id": "rising-expert",
   "metadata": {
    "scrolled": true
   },
   "outputs": [
    {
     "data": {
      "text/html": [
       "<div>\n",
       "<style scoped>\n",
       "    .dataframe tbody tr th:only-of-type {\n",
       "        vertical-align: middle;\n",
       "    }\n",
       "\n",
       "    .dataframe tbody tr th {\n",
       "        vertical-align: top;\n",
       "    }\n",
       "\n",
       "    .dataframe thead th {\n",
       "        text-align: right;\n",
       "    }\n",
       "</style>\n",
       "<table border=\"1\" class=\"dataframe\">\n",
       "  <thead>\n",
       "    <tr style=\"text-align: right;\">\n",
       "      <th></th>\n",
       "      <th>id</th>\n",
       "      <th>title</th>\n",
       "      <th>text</th>\n",
       "      <th>label</th>\n",
       "    </tr>\n",
       "  </thead>\n",
       "  <tbody>\n",
       "    <tr>\n",
       "      <th>0</th>\n",
       "      <td>8476</td>\n",
       "      <td>You Can Smell Hillary’s Fear</td>\n",
       "      <td>Daniel Greenfield, a Shillman Journalism Fello...</td>\n",
       "      <td>FAKE</td>\n",
       "    </tr>\n",
       "    <tr>\n",
       "      <th>1</th>\n",
       "      <td>10294</td>\n",
       "      <td>Watch The Exact Moment Paul Ryan Committed Pol...</td>\n",
       "      <td>Google Pinterest Digg Linkedin Reddit Stumbleu...</td>\n",
       "      <td>FAKE</td>\n",
       "    </tr>\n",
       "    <tr>\n",
       "      <th>2</th>\n",
       "      <td>3608</td>\n",
       "      <td>Kerry to go to Paris in gesture of sympathy</td>\n",
       "      <td>U.S. Secretary of State John F. Kerry said Mon...</td>\n",
       "      <td>REAL</td>\n",
       "    </tr>\n",
       "    <tr>\n",
       "      <th>3</th>\n",
       "      <td>10142</td>\n",
       "      <td>Bernie supporters on Twitter erupt in anger ag...</td>\n",
       "      <td>— Kaydee King (@KaydeeKing) November 9, 2016 T...</td>\n",
       "      <td>FAKE</td>\n",
       "    </tr>\n",
       "    <tr>\n",
       "      <th>4</th>\n",
       "      <td>875</td>\n",
       "      <td>The Battle of New York: Why This Primary Matters</td>\n",
       "      <td>It's primary day in New York and front-runners...</td>\n",
       "      <td>REAL</td>\n",
       "    </tr>\n",
       "  </tbody>\n",
       "</table>\n",
       "</div>"
      ],
      "text/plain": [
       "      id                                              title  \\\n",
       "0   8476                       You Can Smell Hillary’s Fear   \n",
       "1  10294  Watch The Exact Moment Paul Ryan Committed Pol...   \n",
       "2   3608        Kerry to go to Paris in gesture of sympathy   \n",
       "3  10142  Bernie supporters on Twitter erupt in anger ag...   \n",
       "4    875   The Battle of New York: Why This Primary Matters   \n",
       "\n",
       "                                                text label  \n",
       "0  Daniel Greenfield, a Shillman Journalism Fello...  FAKE  \n",
       "1  Google Pinterest Digg Linkedin Reddit Stumbleu...  FAKE  \n",
       "2  U.S. Secretary of State John F. Kerry said Mon...  REAL  \n",
       "3  — Kaydee King (@KaydeeKing) November 9, 2016 T...  FAKE  \n",
       "4  It's primary day in New York and front-runners...  REAL  "
      ]
     },
     "execution_count": 5,
     "metadata": {},
     "output_type": "execute_result"
    }
   ],
   "source": [
    "test_df = df.rename(columns={\"Unnamed: 0\": \"id\"})\n",
    "test_df.head()"
   ]
  },
  {
   "cell_type": "code",
   "execution_count": 24,
   "id": "twelve-cotton",
   "metadata": {},
   "outputs": [],
   "source": [
    "# test_df = test_df.set_index(\"id\")\n",
    "# test_df.head()"
   ]
  },
  {
   "cell_type": "code",
   "execution_count": 30,
   "id": "ambient-subscription",
   "metadata": {},
   "outputs": [
    {
     "data": {
      "text/html": [
       "<div>\n",
       "<style scoped>\n",
       "    .dataframe tbody tr th:only-of-type {\n",
       "        vertical-align: middle;\n",
       "    }\n",
       "\n",
       "    .dataframe tbody tr th {\n",
       "        vertical-align: top;\n",
       "    }\n",
       "\n",
       "    .dataframe thead th {\n",
       "        text-align: right;\n",
       "    }\n",
       "</style>\n",
       "<table border=\"1\" class=\"dataframe\">\n",
       "  <thead>\n",
       "    <tr style=\"text-align: right;\">\n",
       "      <th></th>\n",
       "      <th>id</th>\n",
       "      <th>title</th>\n",
       "      <th>text</th>\n",
       "      <th>label</th>\n",
       "    </tr>\n",
       "  </thead>\n",
       "  <tbody>\n",
       "    <tr>\n",
       "      <th>0</th>\n",
       "      <td>8476</td>\n",
       "      <td>You Can Smell Hillary’s Fear</td>\n",
       "      <td>Daniel Greenfield, a Shillman Journalism Fello...</td>\n",
       "      <td>FAKE</td>\n",
       "    </tr>\n",
       "    <tr>\n",
       "      <th>1</th>\n",
       "      <td>10294</td>\n",
       "      <td>Watch The Exact Moment Paul Ryan Committed Pol...</td>\n",
       "      <td>Google Pinterest Digg Linkedin Reddit Stumbleu...</td>\n",
       "      <td>FAKE</td>\n",
       "    </tr>\n",
       "    <tr>\n",
       "      <th>2</th>\n",
       "      <td>3608</td>\n",
       "      <td>Kerry to go to Paris in gesture of sympathy</td>\n",
       "      <td>U.S. Secretary of State John F. Kerry said Mon...</td>\n",
       "      <td>REAL</td>\n",
       "    </tr>\n",
       "    <tr>\n",
       "      <th>3</th>\n",
       "      <td>10142</td>\n",
       "      <td>Bernie supporters on Twitter erupt in anger ag...</td>\n",
       "      <td>— Kaydee King (@KaydeeKing) November 9, 2016 T...</td>\n",
       "      <td>FAKE</td>\n",
       "    </tr>\n",
       "    <tr>\n",
       "      <th>4</th>\n",
       "      <td>875</td>\n",
       "      <td>The Battle of New York: Why This Primary Matters</td>\n",
       "      <td>It's primary day in New York and front-runners...</td>\n",
       "      <td>REAL</td>\n",
       "    </tr>\n",
       "  </tbody>\n",
       "</table>\n",
       "</div>"
      ],
      "text/plain": [
       "      id                                              title  \\\n",
       "0   8476                       You Can Smell Hillary’s Fear   \n",
       "1  10294  Watch The Exact Moment Paul Ryan Committed Pol...   \n",
       "2   3608        Kerry to go to Paris in gesture of sympathy   \n",
       "3  10142  Bernie supporters on Twitter erupt in anger ag...   \n",
       "4    875   The Battle of New York: Why This Primary Matters   \n",
       "\n",
       "                                                text label  \n",
       "0  Daniel Greenfield, a Shillman Journalism Fello...  FAKE  \n",
       "1  Google Pinterest Digg Linkedin Reddit Stumbleu...  FAKE  \n",
       "2  U.S. Secretary of State John F. Kerry said Mon...  REAL  \n",
       "3  — Kaydee King (@KaydeeKing) November 9, 2016 T...  FAKE  \n",
       "4  It's primary day in New York and front-runners...  REAL  "
      ]
     },
     "execution_count": 30,
     "metadata": {},
     "output_type": "execute_result"
    }
   ],
   "source": [
    "# test_df.head()"
   ]
  },
  {
   "cell_type": "code",
   "execution_count": 8,
   "id": "cutting-market",
   "metadata": {},
   "outputs": [],
   "source": [
    "# test_df[\"title\"].to_csv(\"new_test_data_title.csv\", index=True)\n",
    "# test_df[\"text\"].to_csv(\"new_test_data_text.csv\", index=True)\n",
    "# test_df[\"label\"].to_csv(\"new_test_data_label.csv\", index=True)"
   ]
  },
  {
   "cell_type": "code",
   "execution_count": 9,
   "id": "graphic-sunglasses",
   "metadata": {},
   "outputs": [],
   "source": [
    "test_df.to_json(\"new_test_data.json\", index=True, orient=\"records\")"
   ]
  },
  {
   "cell_type": "code",
   "execution_count": 10,
   "id": "surprising-encyclopedia",
   "metadata": {},
   "outputs": [],
   "source": [
    "test_df = pd.read_json(\"new_test_data.json\")"
   ]
  },
  {
   "cell_type": "code",
   "execution_count": 11,
   "id": "cosmetic-skirt",
   "metadata": {},
   "outputs": [
    {
     "data": {
      "text/plain": [
       "index     int64\n",
       "id        int64\n",
       "title    object\n",
       "text     object\n",
       "label    object\n",
       "dtype: object"
      ]
     },
     "execution_count": 11,
     "metadata": {},
     "output_type": "execute_result"
    }
   ],
   "source": [
    "test_df.dtypes"
   ]
  },
  {
   "cell_type": "code",
   "execution_count": 12,
   "id": "rental-village",
   "metadata": {},
   "outputs": [
    {
     "data": {
      "text/plain": [
       "0    FAKE\n",
       "1    FAKE\n",
       "2    REAL\n",
       "3    FAKE\n",
       "4    REAL\n",
       "Name: label, dtype: object"
      ]
     },
     "execution_count": 12,
     "metadata": {},
     "output_type": "execute_result"
    }
   ],
   "source": [
    "labels=df.label\n",
    "labels.head()"
   ]
  },
  {
   "cell_type": "code",
   "execution_count": null,
   "id": "innocent-netscape",
   "metadata": {},
   "outputs": [],
   "source": []
  },
  {
   "cell_type": "code",
   "execution_count": 15,
   "id": "future-posting",
   "metadata": {},
   "outputs": [
    {
     "name": "stdout",
     "output_type": "stream",
     "text": [
      "Collecting nltk\n",
      "  Downloading nltk-3.5.zip (1.4 MB)\n",
      "Requirement already satisfied: click in c:\\users\\alext\\.conda\\envs\\pythonadv\\lib\\site-packages (from nltk) (7.1.2)\n",
      "Requirement already satisfied: joblib in c:\\users\\alext\\.conda\\envs\\pythonadv\\lib\\site-packages (from nltk) (1.0.1)\n",
      "Collecting regex\n",
      "  Downloading regex-2021.3.17-cp36-cp36m-win_amd64.whl (270 kB)\n",
      "Collecting tqdm\n",
      "  Downloading tqdm-4.59.0-py2.py3-none-any.whl (74 kB)\n",
      "Building wheels for collected packages: nltk\n",
      "  Building wheel for nltk (setup.py): started\n",
      "  Building wheel for nltk (setup.py): finished with status 'done'\n",
      "  Created wheel for nltk: filename=nltk-3.5-py3-none-any.whl size=1434676 sha256=e49688cf4192f26c792d55f847321252f8024c7c2ffe83081374a181d781fe4c\n",
      "  Stored in directory: c:\\users\\alext\\appdata\\local\\pip\\cache\\wheels\\de\\5e\\42\\64abaeca668161c3e2cecc24f864a8fc421e3d07a104fc8a51\n",
      "Successfully built nltk\n",
      "Installing collected packages: tqdm, regex, nltk\n",
      "Successfully installed nltk-3.5 regex-2021.3.17 tqdm-4.59.0\n"
     ]
    }
   ],
   "source": [
    "# !pip install nltk"
   ]
  },
  {
   "cell_type": "code",
   "execution_count": 57,
   "id": "polished-undergraduate",
   "metadata": {},
   "outputs": [],
   "source": [
    "import nltk\n",
    "from nltk.corpus import stopwords\n",
    "from nltk.tokenize import word_tokenize"
   ]
  },
  {
   "cell_type": "code",
   "execution_count": 58,
   "id": "difficult-possible",
   "metadata": {},
   "outputs": [
    {
     "data": {
      "text/html": [
       "<div>\n",
       "<style scoped>\n",
       "    .dataframe tbody tr th:only-of-type {\n",
       "        vertical-align: middle;\n",
       "    }\n",
       "\n",
       "    .dataframe tbody tr th {\n",
       "        vertical-align: top;\n",
       "    }\n",
       "\n",
       "    .dataframe thead th {\n",
       "        text-align: right;\n",
       "    }\n",
       "</style>\n",
       "<table border=\"1\" class=\"dataframe\">\n",
       "  <thead>\n",
       "    <tr style=\"text-align: right;\">\n",
       "      <th></th>\n",
       "      <th>id</th>\n",
       "      <th>title</th>\n",
       "      <th>text</th>\n",
       "      <th>label</th>\n",
       "    </tr>\n",
       "  </thead>\n",
       "  <tbody>\n",
       "    <tr>\n",
       "      <th>0</th>\n",
       "      <td>8476</td>\n",
       "      <td>You Can Smell Hillary’s Fear</td>\n",
       "      <td>Daniel Greenfield, a Shillman Journalism Fello...</td>\n",
       "      <td>FAKE</td>\n",
       "    </tr>\n",
       "    <tr>\n",
       "      <th>1</th>\n",
       "      <td>10294</td>\n",
       "      <td>Watch The Exact Moment Paul Ryan Committed Pol...</td>\n",
       "      <td>Google Pinterest Digg Linkedin Reddit Stumbleu...</td>\n",
       "      <td>FAKE</td>\n",
       "    </tr>\n",
       "    <tr>\n",
       "      <th>2</th>\n",
       "      <td>3608</td>\n",
       "      <td>Kerry to go to Paris in gesture of sympathy</td>\n",
       "      <td>U.S. Secretary of State John F. Kerry said Mon...</td>\n",
       "      <td>REAL</td>\n",
       "    </tr>\n",
       "    <tr>\n",
       "      <th>3</th>\n",
       "      <td>10142</td>\n",
       "      <td>Bernie supporters on Twitter erupt in anger ag...</td>\n",
       "      <td>— Kaydee King (@KaydeeKing) November 9, 2016 T...</td>\n",
       "      <td>FAKE</td>\n",
       "    </tr>\n",
       "    <tr>\n",
       "      <th>4</th>\n",
       "      <td>875</td>\n",
       "      <td>The Battle of New York: Why This Primary Matters</td>\n",
       "      <td>It's primary day in New York and front-runners...</td>\n",
       "      <td>REAL</td>\n",
       "    </tr>\n",
       "  </tbody>\n",
       "</table>\n",
       "</div>"
      ],
      "text/plain": [
       "      id                                              title  \\\n",
       "0   8476                       You Can Smell Hillary’s Fear   \n",
       "1  10294  Watch The Exact Moment Paul Ryan Committed Pol...   \n",
       "2   3608        Kerry to go to Paris in gesture of sympathy   \n",
       "3  10142  Bernie supporters on Twitter erupt in anger ag...   \n",
       "4    875   The Battle of New York: Why This Primary Matters   \n",
       "\n",
       "                                                text label  \n",
       "0  Daniel Greenfield, a Shillman Journalism Fello...  FAKE  \n",
       "1  Google Pinterest Digg Linkedin Reddit Stumbleu...  FAKE  \n",
       "2  U.S. Secretary of State John F. Kerry said Mon...  REAL  \n",
       "3  — Kaydee King (@KaydeeKing) November 9, 2016 T...  FAKE  \n",
       "4  It's primary day in New York and front-runners...  REAL  "
      ]
     },
     "execution_count": 58,
     "metadata": {},
     "output_type": "execute_result"
    }
   ],
   "source": [
    "test_df.head()"
   ]
  },
  {
   "cell_type": "code",
   "execution_count": 66,
   "id": "institutional-coordination",
   "metadata": {},
   "outputs": [],
   "source": [
    "# Label-encode\n",
    "from sklearn.preprocessing import LabelEncoder\n",
    "\n",
    "label_encoder = LabelEncoder()\n",
    "label_encoder.fit(test_df[\"label\"])\n",
    "test_df['encoded_labels'] = label_encoder.transform(test_df[\"label\"])"
   ]
  },
  {
   "cell_type": "code",
   "execution_count": 67,
   "id": "alert-charleston",
   "metadata": {},
   "outputs": [
    {
     "data": {
      "text/html": [
       "<div>\n",
       "<style scoped>\n",
       "    .dataframe tbody tr th:only-of-type {\n",
       "        vertical-align: middle;\n",
       "    }\n",
       "\n",
       "    .dataframe tbody tr th {\n",
       "        vertical-align: top;\n",
       "    }\n",
       "\n",
       "    .dataframe thead th {\n",
       "        text-align: right;\n",
       "    }\n",
       "</style>\n",
       "<table border=\"1\" class=\"dataframe\">\n",
       "  <thead>\n",
       "    <tr style=\"text-align: right;\">\n",
       "      <th></th>\n",
       "      <th>id</th>\n",
       "      <th>title</th>\n",
       "      <th>text</th>\n",
       "      <th>label</th>\n",
       "      <th>token_text</th>\n",
       "      <th>clean_token_text</th>\n",
       "      <th>encoded_labels</th>\n",
       "    </tr>\n",
       "  </thead>\n",
       "  <tbody>\n",
       "    <tr>\n",
       "      <th>0</th>\n",
       "      <td>8476</td>\n",
       "      <td>You Can Smell Hillary’s Fear</td>\n",
       "      <td>Daniel Greenfield, a Shillman Journalism Fello...</td>\n",
       "      <td>FAKE</td>\n",
       "      <td>[Daniel, Greenfield, ,, a, Shillman, Journalis...</td>\n",
       "      <td>[Daniel, Greenfield, ,, Shillman, Journalism, ...</td>\n",
       "      <td>0</td>\n",
       "    </tr>\n",
       "    <tr>\n",
       "      <th>1</th>\n",
       "      <td>10294</td>\n",
       "      <td>Watch The Exact Moment Paul Ryan Committed Pol...</td>\n",
       "      <td>Google Pinterest Digg Linkedin Reddit Stumbleu...</td>\n",
       "      <td>FAKE</td>\n",
       "      <td>[Google, Pinterest, Digg, Linkedin, Reddit, St...</td>\n",
       "      <td>[Google, Pinterest, Digg, Linkedin, Reddit, St...</td>\n",
       "      <td>0</td>\n",
       "    </tr>\n",
       "    <tr>\n",
       "      <th>2</th>\n",
       "      <td>3608</td>\n",
       "      <td>Kerry to go to Paris in gesture of sympathy</td>\n",
       "      <td>U.S. Secretary of State John F. Kerry said Mon...</td>\n",
       "      <td>REAL</td>\n",
       "      <td>[U.S., Secretary, of, State, John, F., Kerry, ...</td>\n",
       "      <td>[U.S., Secretary, State, John, F., Kerry, said...</td>\n",
       "      <td>1</td>\n",
       "    </tr>\n",
       "    <tr>\n",
       "      <th>3</th>\n",
       "      <td>10142</td>\n",
       "      <td>Bernie supporters on Twitter erupt in anger ag...</td>\n",
       "      <td>— Kaydee King (@KaydeeKing) November 9, 2016 T...</td>\n",
       "      <td>FAKE</td>\n",
       "      <td>[—, Kaydee, King, (, @, KaydeeKing, ), Novembe...</td>\n",
       "      <td>[—, Kaydee, King, (, @, KaydeeKing, ), Novembe...</td>\n",
       "      <td>0</td>\n",
       "    </tr>\n",
       "    <tr>\n",
       "      <th>4</th>\n",
       "      <td>875</td>\n",
       "      <td>The Battle of New York: Why This Primary Matters</td>\n",
       "      <td>It's primary day in New York and front-runners...</td>\n",
       "      <td>REAL</td>\n",
       "      <td>[It, 's, primary, day, in, New, York, and, fro...</td>\n",
       "      <td>[It, 's, primary, day, New, York, front-runner...</td>\n",
       "      <td>1</td>\n",
       "    </tr>\n",
       "  </tbody>\n",
       "</table>\n",
       "</div>"
      ],
      "text/plain": [
       "      id                                              title  \\\n",
       "0   8476                       You Can Smell Hillary’s Fear   \n",
       "1  10294  Watch The Exact Moment Paul Ryan Committed Pol...   \n",
       "2   3608        Kerry to go to Paris in gesture of sympathy   \n",
       "3  10142  Bernie supporters on Twitter erupt in anger ag...   \n",
       "4    875   The Battle of New York: Why This Primary Matters   \n",
       "\n",
       "                                                text label  \\\n",
       "0  Daniel Greenfield, a Shillman Journalism Fello...  FAKE   \n",
       "1  Google Pinterest Digg Linkedin Reddit Stumbleu...  FAKE   \n",
       "2  U.S. Secretary of State John F. Kerry said Mon...  REAL   \n",
       "3  — Kaydee King (@KaydeeKing) November 9, 2016 T...  FAKE   \n",
       "4  It's primary day in New York and front-runners...  REAL   \n",
       "\n",
       "                                          token_text  \\\n",
       "0  [Daniel, Greenfield, ,, a, Shillman, Journalis...   \n",
       "1  [Google, Pinterest, Digg, Linkedin, Reddit, St...   \n",
       "2  [U.S., Secretary, of, State, John, F., Kerry, ...   \n",
       "3  [—, Kaydee, King, (, @, KaydeeKing, ), Novembe...   \n",
       "4  [It, 's, primary, day, in, New, York, and, fro...   \n",
       "\n",
       "                                    clean_token_text  encoded_labels  \n",
       "0  [Daniel, Greenfield, ,, Shillman, Journalism, ...               0  \n",
       "1  [Google, Pinterest, Digg, Linkedin, Reddit, St...               0  \n",
       "2  [U.S., Secretary, State, John, F., Kerry, said...               1  \n",
       "3  [—, Kaydee, King, (, @, KaydeeKing, ), Novembe...               0  \n",
       "4  [It, 's, primary, day, New, York, front-runner...               1  "
      ]
     },
     "execution_count": 67,
     "metadata": {},
     "output_type": "execute_result"
    }
   ],
   "source": [
    "# Tokenize text and remove stop words\n",
    "stop = stopwords.words('english')\n",
    "test_df['token_text'] = test_df[\"text\"].apply(word_tokenize)\n",
    "test_df['clean_token_text'] = test_df[\"token_text\"].apply(lambda x: [item for item in x if item not in stop])\n",
    "test_df.head()"
   ]
  },
  {
   "cell_type": "code",
   "execution_count": null,
   "id": "threatened-terrace",
   "metadata": {},
   "outputs": [],
   "source": []
  },
  {
   "cell_type": "code",
   "execution_count": null,
   "id": "acute-marathon",
   "metadata": {},
   "outputs": [],
   "source": []
  },
  {
   "cell_type": "code",
   "execution_count": null,
   "id": "authorized-guard",
   "metadata": {},
   "outputs": [],
   "source": []
  },
  {
   "cell_type": "code",
   "execution_count": null,
   "id": "instant-correlation",
   "metadata": {},
   "outputs": [],
   "source": []
  },
  {
   "cell_type": "code",
   "execution_count": null,
   "id": "quiet-baghdad",
   "metadata": {},
   "outputs": [],
   "source": []
  },
  {
   "cell_type": "code",
   "execution_count": null,
   "id": "checked-assist",
   "metadata": {},
   "outputs": [],
   "source": [
    "# Split dataset to training and testing data\n",
    "\n",
    "# X_train, X_test, y_train, y_test = train_test_split(X, encoded_y, test_size=0.2, random_state=7)"
   ]
  },
  {
   "cell_type": "code",
   "execution_count": null,
   "id": "acoustic-cooler",
   "metadata": {},
   "outputs": [],
   "source": [
    "# # Initialize a TfidfVectorizer\n",
    "# tfidf_vectorizer = TfidfVectorizer(stop_words='english', max_df=0.7)\n",
    "\n",
    "# # Fit and transform train set, transform test set\n",
    "# tfidf_train = tfidf_vectorizer.fit_transform(X_train) \n",
    "# tfidf_test=tfidf_vectorizer.transform(X_test)"
   ]
  },
  {
   "cell_type": "code",
   "execution_count": null,
   "id": "according-bargain",
   "metadata": {},
   "outputs": [],
   "source": []
  },
  {
   "cell_type": "code",
   "execution_count": null,
   "id": "directed-bridges",
   "metadata": {},
   "outputs": [],
   "source": []
  },
  {
   "cell_type": "code",
   "execution_count": null,
   "id": "under-virginia",
   "metadata": {},
   "outputs": [],
   "source": []
  },
  {
   "cell_type": "code",
   "execution_count": 41,
   "id": "cognitive-suicide",
   "metadata": {},
   "outputs": [],
   "source": [
    "# # Reformat data\n",
    "# data = test_df.values\n",
    "# X = data[:, 0:3]\n",
    "# y = data[:, 3]"
   ]
  },
  {
   "cell_type": "code",
   "execution_count": 46,
   "id": "refined-correspondence",
   "metadata": {},
   "outputs": [],
   "source": [
    "# # Label-encode\n",
    "# from sklearn.preprocessing import LabelEncoder\n",
    "\n",
    "# label_encoder = LabelEncoder()\n",
    "# label_encoder.fit(y)\n",
    "# encoded_y = label_encoder.transform(y)"
   ]
  },
  {
   "cell_type": "code",
   "execution_count": 37,
   "id": "extensive-crossing",
   "metadata": {},
   "outputs": [
    {
     "data": {
      "text/plain": [
       "(array([0, 0, 1, ..., 0, 1, 1]),\n",
       " array(['FAKE', 'FAKE', 'REAL', ..., 'FAKE', 'REAL', 'REAL'], dtype=object))"
      ]
     },
     "execution_count": 37,
     "metadata": {},
     "output_type": "execute_result"
    }
   ],
   "source": [
    "# encoded_y, y"
   ]
  },
  {
   "cell_type": "code",
   "execution_count": 47,
   "id": "advised-detection",
   "metadata": {},
   "outputs": [],
   "source": [
    "# Split dataset to training and testing data\n",
    "\n",
    "# X_train, X_test, y_train, y_test = train_test_split(X, encoded_y, test_size=0.2, random_state=7)"
   ]
  },
  {
   "cell_type": "code",
   "execution_count": 53,
   "id": "modular-measurement",
   "metadata": {},
   "outputs": [
    {
     "data": {
      "text/plain": [
       "array([[7836,\n",
       "        'Shock Claim: Nibiru Will Hit In 2017- World Governments Are Prepared',\n",
       "        'The head of a leading survivalist group has made several shocking allegations about the United States government building secret, cavernous underground bunkers which are earmarked for use by the global elite in the case of an imminent apocalyptic event.\\n\\n\\nA vast underground bunker under Denver Airport is ready for use by the global elite \\n\\nRobert Vicino, head of the survival firm Vivos has claimed that officials from the United States have been building ‘deep underground shelters’ underneath the city of Denver for that past three decades. He claims that sources have deduced that these survival shelters have been a work in progress since 1983. The largest has space for 10,000 people who are members of the global elite. However, the general population has not be considered in these plans. \"They do not have a plan for you and me, but they have a plan for themselves, ” said Vicino.\\n\\n\\nThe secretive goings on underneath Denver Airport have often been the source of a great deal of speculation and is suspected to have links with the Illuminati. According to Vicino, it is, in fact, the entrance point of the secret complex which is connected to Washington DC by an underground high-speed train.\\n\\nVicino believes that the apocalyptic event the global elite have been for is imminent. \"You have to ask yourself, why did Russia just have a drill for 40 million people?\" he asked. But the answer might not be what people suspect. According to Vicino, the threat will not come from nuclear war but from the arrival of Planet X (also known as Nibiru) which will arrive in September 2017. When Niribu comes close to Earth, it will compromise the integrity of the naturally occurring magnetic shield around the planet, leaving the surface highly vulnerable to showers of debris and toxic radiation rays . \\n\\nWhen questioned why the government had not forewarned the general public about this threat to the world, Vicino replied, \"No government in the world is going to tell you about something life threatening unless they have a solution for you because otherwise, its going to cause a social meltdown.”\\n\\n\\nVicino recognized that his warning was bound to attract condemnation and ridicule, but he said that he would not be deterred. \"People that think it’s crazy are the ones who have not spent any time doing research. It’s easy to say \\'the sky is not blue\\' if you have never done any research on what color the sky is. If you did not well read and sit there playing with iPhone and watching television, you are probably already a walking zombie, but they should not demean those people who have taken the time to deeply research this stuff, ” he said.\\n\\nThe \"Evidence\" \\n\\nDisclose TV SOURCE '],\n",
       "       [9992, 'Spirit to thank veterans at annual Veterans Day Parade',\n",
       "        \"‹ › Arnaldo Rodgers is a trained and educated Psychologist. He has worked as a community organizer and activist. Spirit to thank veterans at annual Veterans Day Parade By Arnaldo Rodgers on November 2, 2016 Veterans Day \\nBy spiritaero.com \\nSpirit AeroSystems is proud to sponsor the annual Spirit AeroSystems Veterans Day Parade scheduled Saturday, Nov. 5, in downtown Wichita. Spirit employees and their families will take part in the parade to show appreciation and support for the men and women who have served the United States and protected freedom around the globe. \\nThe parade is scheduled at 11 a.m. Saturday, Nov. 5, in downtown Wichita. The parade will begin near 11 th and Main Street and conclude with a celebration remembrance event at WaterWalk. \\nEmployees and the general public are invited to attend the festivities, which are presented in partnership with USD259 JROTC. This year, the parade commemorates the National Defense Act of 1916. \\nRead the Full Article at www.spiritaero.com >>>> Related Posts: No Related Posts The views expressed herein are the views of the author exclusively and not necessarily the views of VNN, VNN authors, affiliates, advertisers, sponsors, partners, technicians or the Veterans Today Network and its assigns. Notices Posted by Arnaldo Rodgers on November 2, 2016, With 0 Reads, Filed under Veterans . You can follow any responses to this entry through the RSS 2.0 . You can leave a response or trackback to this entry FaceBook Comments \\nYou must be logged in to post a comment Login WHAT'S HOT\"],\n",
       "       [8158,\n",
       "        'Obese Woman Loses More Than 100 Kilograms After Breaking Up With Her Feeder Boyfriend',\n",
       "        'Patty Sanchez, 51, used to eat 13,000 calories a day and weigh more than 320 kilograms as she tried to satisfy boyfriend\\'s fantasies\\n\\nPatty weighed more than 320 kilograms when she split from her feeder boyfriend, who was constantly encouraging and enabling her weight gain. \\n\\nPatty Sanchez has gone from 320 kilograms to 215 kilograms after years of constant eating with the encouragement of her ex-boyfriend and online fat fetishists. \\n\\nHaving purposefully consumed up to 13,000 calories per day for years on end, it is a minor miracle in itself that Patty has made it to 51 and is in position to change her lifestyle. \\n\\nAfter splitting from her boyfriend of ten years, Patty soon realized that she had become very isolated and vulnerable due to her size.\\n\\n\\nThe mother-of-four has spoken out about the positive effect weight loss has had on both her personal and family life, also allowing her to undertake a wide range of everyday tasks previously impossible to her. \\n\"I was tremendous – and I was dying a slow death.I realized that the feeding relationship I was in and the squashing was benefiting others, but it wasn’t for me. The weight loss had a lot to do with my break up with my ex – I was being served every meal daily, and when we broke up I had to take care of myself.I never feared death before – it was something I never thought about when I was getting bigger and bigger. But when I reached my lowest and couldn’t walk to the bathroom without getting winded I was worried I wouldn’t be there for my kids and grand kids. My struggles didn’t fully surface until I was single and had no one to help me and couldn’t cook, bathe, or leave the house – it was very lonely,” she said in an interview. Today, with the help of her sons, Patty eats 3,000 calories a day and is more mobile. \\n\\nShe said: “I stay away from fast food and eat more vegetables, fruits and poultry. Now I can do things that people take for granted that I couldn’t do - like walk, bathe, and paint my toenails which I couldn\\'t reach for years.\" \\n\\n\\n“My children are very proud of me for changing my life around - we have a better relationship now,\" she added.\\n\\n\\nSizzling Feed SOURCE '],\n",
       "       ...,\n",
       "       [4883, 'Yes, There Is a Clinton Double Standard',\n",
       "        'Anyone writing sentences like ‘nevertheless fuels the perception that the Clintons may have…’ might want to stop and think about whether they are reporting news or innuendo.\\n\\nIt’s Labor Day weekend, and the polls have tightened in the last week. Donald Trump has done nothing to earn this, of course. His schizophrenic jaunt from Mexico to Arizona—I love the Mexican people! I love them so much I’m creating a police force to send them home to Mexico!—was a mess.\\n\\nBecause Hillary Clinton is more unpopular than she’s been in a long time—or ever, if you believe the spin on the the new Washington Post/ABC poll. In that one, she’s 15 points underwater. Other recent polls have been both better and worse—she’s minus-17 in YouGov/Economist but only minus-8 in Fox. But the picture is pretty consistent overall, and it’s bleak.\\n\\nHer unfavorable numbers over the course of the last several months tell an interesting and mostly overlooked tale. The conventional wisdom is that her numbers went south after the Times broke the story in March 2015 of the email server, and they’ve been lower-hemispheric ever since. That’s true—but there are variations within that are worth examining.\\n\\nThrough the summer of 2015, she was barely underwater—three to five points. By December and January it was marginally worse, six or seven in most polls. But she didn’t hit double digits until March and April, and then she really bottomed out around minus-20 in late May and early June.\\n\\nWhat was happening? Well, she and Bernie Sanders were going at it pretty good, which surely reduced some liberals’ opinions of her. But mostly she was getting buffeted about on the winds of scandal—the Benghazi committee was leaking a steady trail of morsels, and in late May the State Department inspector general came out with its report saying she hadn’t gotten White House approval for using the private server.\\n\\nIn other words, there looks to be a link between fresh Clinton scandal stories in the newspapers and her approval numbers dropping from a still-lamentable-but-manageable minus-8 or 10 to a (gulp!) minus-15 or 17. And in the last two weeks, of course, as we’ve seen a new batch of such articles, her negatives have inched back up, and the head-to-head polls have tightened.\\n\\nWhat does this tell you to look forward to? You don’t need the political acumen of Lyndon Johnson to figure this out. It means the Republicans, and Judicial Watch, the source of most of these scandal stories, are going to do everything they can to keep them on the front pages between now and Election Day. Oh—with assists from Julian Assange and Vladimir Putin.\\n\\nThat’s the only environment in which Trump has a remote chance of winning—if it “seems” like the Clintons are “up to their old tricks”; if there are stories out there that, while including “no smoking gun,” nevertheless “feed” the “perception” that the Clintons are corrupt.\\n\\nThe media are showing every sign of falling for each and every breathless Judicial Watch press release that lands in their inboxes without the least bit of skepticism and scrutiny. I discussed the weaknesses of that big AP story in my previous column. There’ve been other lame stories recently, too. The Crown Prince of Bahrain one was another preposterous Clinton Rules piece. He made his donation to the Clinton Global Initiative—which wasn’t really a donation per se but seed money for a program for Bahraini students to study in America—long before Clinton became secretary of state—so he’d have to have been clairvoyant to know he was going to be corrupting a future secretary four and five years later.\\n\\nMatthew Yglesias cited a few of the whoppers in a strong piece that noted the curious difference in coverage received by the Clinton Foundation and one run by Colin Powell. America’s Promise was headed by Alma Powell while Colin was secretary of state in the early 2000s and, according to Yglesias, got money from disgraced Enron CEO Ken Lay while the State Department was helping Enron resolve a dispute in India.\\n\\nWhy the difference in coverage? Yes, I know a lot of people would say because Colin Powell is clean and the Clintons are corrupt. I say the answer is more likely that Colin Powell didn’t have a Judicial Watch poking and prodding into every aspect of his life trying to make him look dirty and send him to jail. He also didn’t face an industry of “book” authors willing to print the most fantastical lies about him, lies gobbled up by hundreds of thousands of readers. Go look at the Times nonfiction best-seller list. Sit down first.\\n\\nThat insane scrutiny means two things. One, the media really ought to try to be careful about just swallowing whatever connections and insinuations Judicial Watch and other right-wing Clinton haters trumpet for the next nine weeks. It’s a rather high-stakes time. If there’s a legit Clinton story, obviously, run with it. But if people find themselves writing sentences with phrases like “nevertheless fuels the perception that the Clintons or their associates may have…” they might want to stop and think about whether what they have on their hands is news or innuendo.\\n\\nBut two—yes, the scrutiny places responsibility on the Clintons, too. It may not be fair that they and they alone have a Judicial Watch on their tail. But fair or not, it’s a fact. And they should behave accordingly. And they should know that the right is going to try to keep the words “Clinton” and “scandal” next to each other on the front pages for the next nine weeks, and they should do everything in their power to keep those words out of the papers. Announcing that they’ve rethought matters and Chelsea won’t remain on the foundation board would be a good start.'],\n",
       "       [3112,\n",
       "        'Pope Francis’ address to Congress: what it means for six Catholic lawmakers (+video)',\n",
       "        'More Catholics are in Congress than ever before – and in positions of power. To each, however, Pope Francis\\' visit means something different.\\n\\nPope Francis talks with President Obama after arriving at Andrews Air Force Base Sept. 22. (First lady Michelle Obama is shown at right.) This is the pope\\'s first visit to the United States, and he will become the first pontiff to ever address a joint session of Congress Thursday.\\n\\nWhen Pope Francis addressed a joint meeting of Congress on Thursday morning – a first for a pope – he looked out on the most Catholic Congress ever. Just over 30 percent of the lawmakers are Roman Catholic, with that group evenly balanced between Democrats and Republicans.\\n\\nWhile these members may be in agreement on religious affiliation, they’re often at odds over politics. Indeed, Francis arrives at a time of great tension on the Hill, as abortion politics plays out in a funding battle that could trigger a government shutdown next week. And because of the pope’s views on climate change, one Catholic lawmaker, Rep. Paul Gosar (R) of Arizona, says he’s boycotting the address.\\n\\nStill, Catholic members are clearly honored – and excited – by the visit, which has caused them to reflect on their faith and the message of this popular pope.\\n\\nHere are the views of six Catholic lawmakers ahead of the address – their hopes for healing of the body politic and the effect of their religious beliefs on their outlook as legislators.\\n\\nBefore he got into public service, the congressman – originally from Boston – considered the priesthood. He spent six years studying at a Catholic seminary. He views the pope’s visit through the lens of history, recalling his boyhood excitement over John F. Kennedy’s presidential campaign.\\n\\n“I was an Irish-Catholic Bostonian bursting with pride that one of our own was running for president,” Representative Connolly relates in an interview in the chandeliered speaker’s lobby of the House. “Imagine the chagrin I felt when I saw the headline of Time magazine and Newsweek at that time, saying, ‘Can a Catholic be president?’ and questioning our patriotism, our allegiance to the country.”\\n\\nIt was a “shock” that anyone would even ask such a question, or that the nominee would have to answer it, he says.\\n\\nConnolly describes the integration of Catholics and their religion in the “great American mosaic” as coming to “full resolution” with the invitation to Francis to address the Congress – and the nation.\\n\\nCan other religions, such as Islam, make a similar journey?\\n\\n“I think so. America is always a work in progress,” he says. “We’re about ultimately expanding rights. Widening inclusivity. Broadening opportunity. And so acceptance and tolerance is in our future, and more of it.”\\n\\nLike other lawmakers, Senator Collins says her faith “informs” her political philosophy but doesn’t “dictate” it.\\n\\nFor instance, she doesn’t agree with the Catholic Church’s teachings on contraception and early-term abortions. But unlike many of her Republican colleagues, she’s very glad the pope is sounding the alarm over climate change.\\n\\nIn her college days at St. Lawrence University, the senator took a course in Christian ethics. She was surprised that a whole unit was devoted to the environment and stewardship.\\n\\n“The concept of stewardship, and that we should leave the earth in a better condition for the next generation, is very much a biblical concept,” she says. Francis’ views on that “reinforce” her own.\\n\\n“This pope’s message of inclusiveness, forgiveness, mercy, and love is so appealing to me as well as to lapsed Catholics and people who aren’t even Catholic,” says Collins, who planned to bring her mother, in her late 80s, to the address.\\n\\nThe senator hoped that the pope “appeals to our better natures, that he preaches a message of unity and compassion for others that are less fortunate, and that he challenges us.”\\n\\nOver the past 20 years, Mr. Boehner has invited three popes to speak before Congress. One finally accepted. It fulfills a dream for a man with Catholicism deeply anchored in himself.\\n\\nBoehner grew up in a big working-class family – the second of 12 children. He went to Mass before school and said prayers with his football teammates and coach at his Catholic high school.\\n\\nPrayer is a big part of the speaker’s life. When friends first suggested he run for Congress, he declined. But he went each morning for a month to church and prayed about it.\\n\\n“Apparently, after a month, he got the answer,” says his former chief of staff Mick Krieger, in a video about the speaker.\\n\\n“I have my conversations with the Lord. They start in the morning early, and they go on all day long. You can’t do this job by yourself,” Boehner has said.\\n\\nThe speaker had a one-on-one with Francis before the pontiff took his place in the House. After the address, the pope moved out to the speaker’s balcony to greet the crowds on the West Lawn of the Capitol.\\n\\nThe speaker’s office planned to record the visit from beginning to end at speaker.gov/pope.\\n\\n\"I think there\\'s a lot of interest in what the pope is saying, his outreach to the poor, the fact he thinks people ought to be more religious,\" Boehner said in a video released by his office. \"He\\'s got some other positions that are a bit more controversial. But, it\\'s the pope!”\\n\\nItalian-American, the daughter of a politician father (who was mayor of Baltimore), and a longtime public figure herself, the top Democrat in the House has an unusual history of encounters with popes.\\n\\nThey started in the eighth grade, when she visited Pope Pius XII in Rome with her family, she recounts to reporters. As a young woman, she stood along the papal parade route in Manhattan, thinking that Pope Paul VI had seen her waving. She knows better now, she laughs.\\n\\nShe speaks reverently of Pope John Paul II, whom she welcomed to San Francisco in 1987, and of the writings and speeches of Pope Benedict XVI, whom she met in Rome in 2009. He is the author of her favorite encyclical, “God is love.”\\n\\nThe visit of Francis to Congress “is thrilling beyond words.” He will speak as a head of state, she says, so “it won’t be a blessing.” And yet, Catholics such as herself are “overwhelmingly almost emotional about the religious experience of his coming.”\\n\\nShe may not agree with the church on abortion – a woman has God-given free will, in her view – but the pope’s “commitment to focusing on the climate crisis” is an “act of worship.” Ditto on his emphasis on helping the needy.\\n\\n“To minister to those needs is an act of worship, to ignore those needs is to disown the God who made us. That’s how I see his visit.”\\n\\nThe freshman lawmaker from Miami says that “being a practicing Catholic makes me very hopeful about my role as a legislator” and what Congress can do to help the neediest people in the country and the world. His faith, he says, “indirectly” influences his policy decisions.\\n\\nRepresentative Curbelo is a product of a prestigious Catholic boys’ school, Belen Jesuit Preparatory School in Miami. Its motto is “Men for Others,” and he carried that interest into his work on the Miami-Dade County School Board before being elected to Congress last year. His focus in the House is on reforming poverty programs, K-12 schooling, and higher education.\\n\\nCurbelo hoped that the pope would speak broadly about issues, rather than make specific policy recommendations. Highlight climate change? A good idea. Prescribe a carbon tax? Not so good. Call attention to the Syrian refugee crisis? Please. Ask the United States to take 100,000 refugees? That would be an “inappropriate” suggestion.\\n\\nMore than anything, Curbelo hoped Francis “inspires us and shows us that we can work together here.” Being from a swing district, the young congressman is taking a pragmatic approach to politics and is willing to compromise.\\n\\n“Maybe the pope can help renew the Congress in some way,” he says.\\n\\nUp in his office on the third floor of the Capitol, the second-ranking Democrat keeps a Roman Catholic prayer book that belonged to his grandmother. It’s in Lithuanian. She brought it with her and her three children when she crossed the ocean to immigrate to America in 1911.\\n\\nIn the old country, the book was contraband, because Russians were imposing their orthodox religion. But in America, said Senator Durbin on the Senate floor on Tuesday, his grandmother could use that prayer book freely.\\n\\nThe senator told this story in a windup of praise for the Constitution’s religious-freedom provisions, including that there is no religious test for elected office. The broader context was Republican presidential candidate Ben Carson’s recent comment that a Muslim should not be president, as well as GOP antiabortion measures in the Senate this week.\\n\\nCaught as he exited the chamber, Durbin commented on the effect of Catholicism on his outlook as a legislator.\\n\\n“I’ve always tried to be thoughtful about the relationship between religion and democracy,” he said. “My values guide me, but I want to make my decisions in the context of our Constitution and our democracy.”\\n\\nFrancis is “wildly popular” in his family and comes up at the dinner table, with praise for his decision to dress in an unadorned way and to live in a simple apartment. “A humble life. What an inspiration!”\\n\\nAs for the pope’s message, Durbin smiles and laughs: “It is no surprise that all of us in political life are thinking about the political impact of his message. Is it going to be more Democratic, more Republican? What is he going to say that makes us feel good or makes us squirm?”\\n\\nHis guess is that the pope will transcend the political and speak to larger issues.\\n\\n“I have such faith in this man.... I didn’t think I would live long enough to see another pope in the mold of John XXIII, and Pope Francis has answered my prayers.”'],\n",
       "       [1110,\n",
       "        'After the latest debacle, we agree with Donald Trump: “We’ve had enough of the debates”',\n",
       "        'It was hosted by CNN, and the presentation was so bombastically stupid that it was almost condescending. The moderation wasn’t great; it took far too long to bring up the violence recently perpetrated against journalists and protesters by Trump supporters — and, shit you not, the Trump campaign itself. And absolutely nothing happened that’s likely to change an outcome which, much like death, seems more inevitable every day.\\n\\nBut listen: You don’t want to hear about the entire debate. You either chose to do something else — or worse still, you watched it for yourself. And as the current patriarch of the heirs of Drumpf said himself Thursday night, “we’ve had enough of the debates” already. So I’m going to spare you a play-by-play. And I’m definitely not going to tell you who “won,” because, really, why the hell do journalists try to do that?\\n\\nHere’s what I’ll do instead. I’m going to focus on the one part of the debate that, in the grand scheme of things, as best I can tell — which, to be clear, is very little — matters the most. It was early, and it was ugly, and it was exactly the kind of exhibition of political cynicism and religious bigotry that President Obama calls “the source of a lot of destructive acts.” I’m talking about the “debate” over what Donald Trump said about Muslims (all 1.6 billion of ‘em) Wednesday night.\\n\\nThe quote, for those of you who were lucky enough to miss that, too:\\n\\nI think Islam hates us. There’s something there that — there’s a tremendous hatred there. There’s a tremendous hatred. We have to get to the bottom of it. There’s an unbelievable hatred of us…. [W]e have to be very vigilant, we have to be very careful and we can’t allow people coming into this country who have this hatred of the United States, and of people who are not Muslim.\\n\\nNeedless to say, when a genuflecting Anderson Cooper (CNN again!) offered Trump a chance to at least say he was only referring to those who believed in a “radical” interpretation of Islam — which is still problematic for someone who wants to be president, but whatever — the Donald declined. “It’s very hard to separate” radicals from the nearly 1.6 billion others, he answered.\\n\\nAnyway, that was the topic on Thursday night. But when CNN tossed another softball in Trump’s direction and gave him another chance to walk it back (are we going to ask him every single day now?), Trump didn’t just reject the offer. He went from arguing that it was difficult to tell the difference between a violent jihadist and an 8-year-old child to arguing that “a lot of them” are full of “tremendous hatred”: I will tell you there’s something going on that maybe you don’t know about, maybe a lot of other people don’t know about, but there’s tremendous hatred … And I will stick with exactly what I said to Anderson Cooper. I like to solve problems. We have a serious, serious problem of hate … We have large portions of a group of people — Islam — large portions want to use very, very harsh means. In response, Little Marco offered a tepid critique, saying that Trump didn’t get that “presidents can’t just say anything they want.” Rubio added that he wasn’t “interested in being politically correct,” but that there were pragmatic reasons not to dehumanize 1.6 billion people. That’s better, I guess; but as the Intercept’s Murtaza Hussain tweeted: Someone should tell these guys Muslims are also watching the debate and hearing them say we should only be nice for utilitarian reasons. Why was this the most important moment of the debate? Because this wasn’t just about Trump, though he certainly was the driver. It was about the entire Republican Party, and about the millions of Americans who continue to support it. All over the country — and all over the world — people are watching. There are millions of people whose perception of the United States is not set in stone just yet. And this is the country we show them. I can’t blame them if they choose to turn away.']],\n",
       "      dtype=object)"
      ]
     },
     "execution_count": 53,
     "metadata": {},
     "output_type": "execute_result"
    }
   ],
   "source": [
    "# X_train"
   ]
  },
  {
   "cell_type": "code",
   "execution_count": 49,
   "id": "differential-appeal",
   "metadata": {},
   "outputs": [],
   "source": [
    "# One-hot encode the labels\n",
    "# from tensorflow.keras.utils import to_categorical\n",
    "\n",
    "# y_train_categorical = to_categorical(y_train)\n",
    "# y_test_categorical = to_categorical(y_test)"
   ]
  },
  {
   "cell_type": "code",
   "execution_count": null,
   "id": "cubic-doctrine",
   "metadata": {},
   "outputs": [],
   "source": []
  },
  {
   "cell_type": "code",
   "execution_count": 52,
   "id": "willing-person",
   "metadata": {},
   "outputs": [
    {
     "ename": "AttributeError",
     "evalue": "'numpy.ndarray' object has no attribute 'lower'",
     "output_type": "error",
     "traceback": [
      "\u001b[1;31m---------------------------------------------------------------------------\u001b[0m",
      "\u001b[1;31mAttributeError\u001b[0m                            Traceback (most recent call last)",
      "\u001b[1;32m<ipython-input-52-89144da27782>\u001b[0m in \u001b[0;36m<module>\u001b[1;34m\u001b[0m\n\u001b[0;32m      3\u001b[0m \u001b[1;33m\u001b[0m\u001b[0m\n\u001b[0;32m      4\u001b[0m \u001b[1;31m# Fit and transform train set, transform test set\u001b[0m\u001b[1;33m\u001b[0m\u001b[1;33m\u001b[0m\u001b[1;33m\u001b[0m\u001b[0m\n\u001b[1;32m----> 5\u001b[1;33m \u001b[0mtfidf_train\u001b[0m \u001b[1;33m=\u001b[0m \u001b[0mtfidf_vectorizer\u001b[0m\u001b[1;33m.\u001b[0m\u001b[0mfit_transform\u001b[0m\u001b[1;33m(\u001b[0m\u001b[0mX_train\u001b[0m\u001b[1;33m)\u001b[0m\u001b[1;33m\u001b[0m\u001b[1;33m\u001b[0m\u001b[0m\n\u001b[0m\u001b[0;32m      6\u001b[0m \u001b[0mtfidf_test\u001b[0m\u001b[1;33m=\u001b[0m\u001b[0mtfidf_vectorizer\u001b[0m\u001b[1;33m.\u001b[0m\u001b[0mtransform\u001b[0m\u001b[1;33m(\u001b[0m\u001b[0mX_test\u001b[0m\u001b[1;33m)\u001b[0m\u001b[1;33m\u001b[0m\u001b[1;33m\u001b[0m\u001b[0m\n",
      "\u001b[1;32m~\\.conda\\envs\\PythonAdv\\lib\\site-packages\\sklearn\\feature_extraction\\text.py\u001b[0m in \u001b[0;36mfit_transform\u001b[1;34m(self, raw_documents, y)\u001b[0m\n\u001b[0;32m   1848\u001b[0m         \"\"\"\n\u001b[0;32m   1849\u001b[0m         \u001b[0mself\u001b[0m\u001b[1;33m.\u001b[0m\u001b[0m_check_params\u001b[0m\u001b[1;33m(\u001b[0m\u001b[1;33m)\u001b[0m\u001b[1;33m\u001b[0m\u001b[1;33m\u001b[0m\u001b[0m\n\u001b[1;32m-> 1850\u001b[1;33m         \u001b[0mX\u001b[0m \u001b[1;33m=\u001b[0m \u001b[0msuper\u001b[0m\u001b[1;33m(\u001b[0m\u001b[1;33m)\u001b[0m\u001b[1;33m.\u001b[0m\u001b[0mfit_transform\u001b[0m\u001b[1;33m(\u001b[0m\u001b[0mraw_documents\u001b[0m\u001b[1;33m)\u001b[0m\u001b[1;33m\u001b[0m\u001b[1;33m\u001b[0m\u001b[0m\n\u001b[0m\u001b[0;32m   1851\u001b[0m         \u001b[0mself\u001b[0m\u001b[1;33m.\u001b[0m\u001b[0m_tfidf\u001b[0m\u001b[1;33m.\u001b[0m\u001b[0mfit\u001b[0m\u001b[1;33m(\u001b[0m\u001b[0mX\u001b[0m\u001b[1;33m)\u001b[0m\u001b[1;33m\u001b[0m\u001b[1;33m\u001b[0m\u001b[0m\n\u001b[0;32m   1852\u001b[0m         \u001b[1;31m# X is already a transformed view of raw_documents so\u001b[0m\u001b[1;33m\u001b[0m\u001b[1;33m\u001b[0m\u001b[1;33m\u001b[0m\u001b[0m\n",
      "\u001b[1;32m~\\.conda\\envs\\PythonAdv\\lib\\site-packages\\sklearn\\feature_extraction\\text.py\u001b[0m in \u001b[0;36mfit_transform\u001b[1;34m(self, raw_documents, y)\u001b[0m\n\u001b[0;32m   1202\u001b[0m \u001b[1;33m\u001b[0m\u001b[0m\n\u001b[0;32m   1203\u001b[0m         vocabulary, X = self._count_vocab(raw_documents,\n\u001b[1;32m-> 1204\u001b[1;33m                                           self.fixed_vocabulary_)\n\u001b[0m\u001b[0;32m   1205\u001b[0m \u001b[1;33m\u001b[0m\u001b[0m\n\u001b[0;32m   1206\u001b[0m         \u001b[1;32mif\u001b[0m \u001b[0mself\u001b[0m\u001b[1;33m.\u001b[0m\u001b[0mbinary\u001b[0m\u001b[1;33m:\u001b[0m\u001b[1;33m\u001b[0m\u001b[1;33m\u001b[0m\u001b[0m\n",
      "\u001b[1;32m~\\.conda\\envs\\PythonAdv\\lib\\site-packages\\sklearn\\feature_extraction\\text.py\u001b[0m in \u001b[0;36m_count_vocab\u001b[1;34m(self, raw_documents, fixed_vocab)\u001b[0m\n\u001b[0;32m   1113\u001b[0m         \u001b[1;32mfor\u001b[0m \u001b[0mdoc\u001b[0m \u001b[1;32min\u001b[0m \u001b[0mraw_documents\u001b[0m\u001b[1;33m:\u001b[0m\u001b[1;33m\u001b[0m\u001b[1;33m\u001b[0m\u001b[0m\n\u001b[0;32m   1114\u001b[0m             \u001b[0mfeature_counter\u001b[0m \u001b[1;33m=\u001b[0m \u001b[1;33m{\u001b[0m\u001b[1;33m}\u001b[0m\u001b[1;33m\u001b[0m\u001b[1;33m\u001b[0m\u001b[0m\n\u001b[1;32m-> 1115\u001b[1;33m             \u001b[1;32mfor\u001b[0m \u001b[0mfeature\u001b[0m \u001b[1;32min\u001b[0m \u001b[0manalyze\u001b[0m\u001b[1;33m(\u001b[0m\u001b[0mdoc\u001b[0m\u001b[1;33m)\u001b[0m\u001b[1;33m:\u001b[0m\u001b[1;33m\u001b[0m\u001b[1;33m\u001b[0m\u001b[0m\n\u001b[0m\u001b[0;32m   1116\u001b[0m                 \u001b[1;32mtry\u001b[0m\u001b[1;33m:\u001b[0m\u001b[1;33m\u001b[0m\u001b[1;33m\u001b[0m\u001b[0m\n\u001b[0;32m   1117\u001b[0m                     \u001b[0mfeature_idx\u001b[0m \u001b[1;33m=\u001b[0m \u001b[0mvocabulary\u001b[0m\u001b[1;33m[\u001b[0m\u001b[0mfeature\u001b[0m\u001b[1;33m]\u001b[0m\u001b[1;33m\u001b[0m\u001b[1;33m\u001b[0m\u001b[0m\n",
      "\u001b[1;32m~\\.conda\\envs\\PythonAdv\\lib\\site-packages\\sklearn\\feature_extraction\\text.py\u001b[0m in \u001b[0;36m_analyze\u001b[1;34m(doc, analyzer, tokenizer, ngrams, preprocessor, decoder, stop_words)\u001b[0m\n\u001b[0;32m    102\u001b[0m     \u001b[1;32melse\u001b[0m\u001b[1;33m:\u001b[0m\u001b[1;33m\u001b[0m\u001b[1;33m\u001b[0m\u001b[0m\n\u001b[0;32m    103\u001b[0m         \u001b[1;32mif\u001b[0m \u001b[0mpreprocessor\u001b[0m \u001b[1;32mis\u001b[0m \u001b[1;32mnot\u001b[0m \u001b[1;32mNone\u001b[0m\u001b[1;33m:\u001b[0m\u001b[1;33m\u001b[0m\u001b[1;33m\u001b[0m\u001b[0m\n\u001b[1;32m--> 104\u001b[1;33m             \u001b[0mdoc\u001b[0m \u001b[1;33m=\u001b[0m \u001b[0mpreprocessor\u001b[0m\u001b[1;33m(\u001b[0m\u001b[0mdoc\u001b[0m\u001b[1;33m)\u001b[0m\u001b[1;33m\u001b[0m\u001b[1;33m\u001b[0m\u001b[0m\n\u001b[0m\u001b[0;32m    105\u001b[0m         \u001b[1;32mif\u001b[0m \u001b[0mtokenizer\u001b[0m \u001b[1;32mis\u001b[0m \u001b[1;32mnot\u001b[0m \u001b[1;32mNone\u001b[0m\u001b[1;33m:\u001b[0m\u001b[1;33m\u001b[0m\u001b[1;33m\u001b[0m\u001b[0m\n\u001b[0;32m    106\u001b[0m             \u001b[0mdoc\u001b[0m \u001b[1;33m=\u001b[0m \u001b[0mtokenizer\u001b[0m\u001b[1;33m(\u001b[0m\u001b[0mdoc\u001b[0m\u001b[1;33m)\u001b[0m\u001b[1;33m\u001b[0m\u001b[1;33m\u001b[0m\u001b[0m\n",
      "\u001b[1;32m~\\.conda\\envs\\PythonAdv\\lib\\site-packages\\sklearn\\feature_extraction\\text.py\u001b[0m in \u001b[0;36m_preprocess\u001b[1;34m(doc, accent_function, lower)\u001b[0m\n\u001b[0;32m     67\u001b[0m     \"\"\"\n\u001b[0;32m     68\u001b[0m     \u001b[1;32mif\u001b[0m \u001b[0mlower\u001b[0m\u001b[1;33m:\u001b[0m\u001b[1;33m\u001b[0m\u001b[1;33m\u001b[0m\u001b[0m\n\u001b[1;32m---> 69\u001b[1;33m         \u001b[0mdoc\u001b[0m \u001b[1;33m=\u001b[0m \u001b[0mdoc\u001b[0m\u001b[1;33m.\u001b[0m\u001b[0mlower\u001b[0m\u001b[1;33m(\u001b[0m\u001b[1;33m)\u001b[0m\u001b[1;33m\u001b[0m\u001b[1;33m\u001b[0m\u001b[0m\n\u001b[0m\u001b[0;32m     70\u001b[0m     \u001b[1;32mif\u001b[0m \u001b[0maccent_function\u001b[0m \u001b[1;32mis\u001b[0m \u001b[1;32mnot\u001b[0m \u001b[1;32mNone\u001b[0m\u001b[1;33m:\u001b[0m\u001b[1;33m\u001b[0m\u001b[1;33m\u001b[0m\u001b[0m\n\u001b[0;32m     71\u001b[0m         \u001b[0mdoc\u001b[0m \u001b[1;33m=\u001b[0m \u001b[0maccent_function\u001b[0m\u001b[1;33m(\u001b[0m\u001b[0mdoc\u001b[0m\u001b[1;33m)\u001b[0m\u001b[1;33m\u001b[0m\u001b[1;33m\u001b[0m\u001b[0m\n",
      "\u001b[1;31mAttributeError\u001b[0m: 'numpy.ndarray' object has no attribute 'lower'"
     ]
    }
   ],
   "source": [
    "# # Initialize a TfidfVectorizer\n",
    "# tfidf_vectorizer = TfidfVectorizer(stop_words='english', max_df=0.7)\n",
    "\n",
    "# # Fit and transform train set, transform test set\n",
    "# tfidf_train = tfidf_vectorizer.fit_transform(X_train) \n",
    "# tfidf_test=tfidf_vectorizer.transform(X_test)\n"
   ]
  },
  {
   "cell_type": "code",
   "execution_count": null,
   "id": "approximate-reputation",
   "metadata": {},
   "outputs": [],
   "source": [
    "# Initialize a PassiveAggressiveClassifier\n",
    "# pac=PassiveAggressiveClassifier(max_iter=50)\n",
    "# pac.fit(tfidf_train,y_train)\n",
    "# # Predict on the test set and calculate accuracy\n",
    "# y_pred=pac.predict(tfidf_test)\n",
    "# score=accuracy_score(y_test,y_pred)\n",
    "# print(f'Accuracy: {round(score*100,2)}%')"
   ]
  },
  {
   "cell_type": "code",
   "execution_count": null,
   "id": "young-detail",
   "metadata": {},
   "outputs": [],
   "source": [
    "# Build confusion matrix\n",
    "# confusion_matrix(y_test,y_pred, labels=['FAKE','REAL'])"
   ]
  },
  {
   "cell_type": "code",
   "execution_count": null,
   "id": "given-blackjack",
   "metadata": {},
   "outputs": [],
   "source": []
  },
  {
   "cell_type": "code",
   "execution_count": null,
   "id": "narrow-potential",
   "metadata": {},
   "outputs": [],
   "source": []
  },
  {
   "cell_type": "code",
   "execution_count": null,
   "id": "mathematical-jerusalem",
   "metadata": {},
   "outputs": [],
   "source": []
  },
  {
   "cell_type": "code",
   "execution_count": null,
   "id": "historic-christopher",
   "metadata": {},
   "outputs": [],
   "source": []
  },
  {
   "cell_type": "code",
   "execution_count": null,
   "id": "extraordinary-drilling",
   "metadata": {},
   "outputs": [],
   "source": []
  },
  {
   "cell_type": "code",
   "execution_count": null,
   "id": "primary-matthew",
   "metadata": {},
   "outputs": [],
   "source": []
  }
 ],
 "metadata": {
  "kernelspec": {
   "display_name": "Python [conda env:.conda-PythonAdv] *",
   "language": "python",
   "name": "conda-env-.conda-PythonAdv-py"
  },
  "language_info": {
   "codemirror_mode": {
    "name": "ipython",
    "version": 3
   },
   "file_extension": ".py",
   "mimetype": "text/x-python",
   "name": "python",
   "nbconvert_exporter": "python",
   "pygments_lexer": "ipython3",
   "version": "3.6.12"
  }
 },
 "nbformat": 4,
 "nbformat_minor": 5
}
